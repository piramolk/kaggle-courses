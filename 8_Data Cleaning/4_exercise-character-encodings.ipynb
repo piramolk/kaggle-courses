{
 "cells": [
  {
   "cell_type": "markdown",
   "metadata": {},
   "source": [
    "**This notebook is an exercise in the [Data Cleaning](https://www.kaggle.com/learn/data-cleaning) course.  You can reference the tutorial at [this link](https://www.kaggle.com/alexisbcook/character-encodings).**\n",
    "\n",
    "---\n"
   ]
  },
  {
   "cell_type": "markdown",
   "metadata": {},
   "source": [
    "In this exercise, you'll apply what you learned in the **Character encodings** tutorial.\n",
    "\n",
    "# Setup\n",
    "\n",
    "The questions below will give you feedback on your work. Run the following cell to set up the feedback system."
   ]
  },
  {
   "cell_type": "code",
   "execution_count": 1,
   "metadata": {
    "execution": {
     "iopub.execute_input": "2021-12-07T15:16:33.020406Z",
     "iopub.status.busy": "2021-12-07T15:16:33.019995Z",
     "iopub.status.idle": "2021-12-07T15:16:33.120973Z",
     "shell.execute_reply": "2021-12-07T15:16:33.120042Z",
     "shell.execute_reply.started": "2021-12-07T15:16:33.020303Z"
    }
   },
   "outputs": [],
   "source": [
    "from learntools.core import binder\n",
    "binder.bind(globals())\n",
    "from learntools.data_cleaning.ex4 import *\n",
    "print(\"Setup Complete\")"
   ]
  },
  {
   "cell_type": "markdown",
   "metadata": {},
   "source": [
    "# Get our environment set up\n",
    "\n",
    "The first thing we'll need to do is load in the libraries we'll be using."
   ]
  },
  {
   "cell_type": "code",
   "execution_count": 2,
   "metadata": {
    "execution": {
     "iopub.execute_input": "2021-12-07T15:16:33.122845Z",
     "iopub.status.busy": "2021-12-07T15:16:33.122568Z",
     "iopub.status.idle": "2021-12-07T15:16:33.128081Z",
     "shell.execute_reply": "2021-12-07T15:16:33.127033Z",
     "shell.execute_reply.started": "2021-12-07T15:16:33.122813Z"
    }
   },
   "outputs": [],
   "source": [
    "# modules we'll use\n",
    "import pandas as pd\n",
    "import numpy as np\n",
    "\n",
    "# helpful character encoding module\n",
    "import chardet\n",
    "\n",
    "# set seed for reproducibility\n",
    "np.random.seed(0)"
   ]
  },
  {
   "cell_type": "markdown",
   "metadata": {},
   "source": [
    "# 1) What are encodings?\n",
    "\n",
    "You're working with a dataset composed of bytes.  Run the code cell below to print a sample entry."
   ]
  },
  {
   "cell_type": "code",
   "execution_count": 3,
   "metadata": {
    "execution": {
     "iopub.execute_input": "2021-12-07T15:16:33.130516Z",
     "iopub.status.busy": "2021-12-07T15:16:33.129945Z",
     "iopub.status.idle": "2021-12-07T15:16:33.140421Z",
     "shell.execute_reply": "2021-12-07T15:16:33.139184Z",
     "shell.execute_reply.started": "2021-12-07T15:16:33.130451Z"
    }
   },
   "outputs": [],
   "source": [
    "sample_entry = b'\\xa7A\\xa6n'\n",
    "print(sample_entry)\n",
    "print('data type:', type(sample_entry))"
   ]
  },
  {
   "cell_type": "markdown",
   "metadata": {},
   "source": [
    "You notice that it doesn't use the standard UTF-8 encoding. \n",
    "\n",
    "Use the next code cell to create a variable `new_entry` that changes the encoding from `\"big5-tw\"` to `\"utf-8\"`.  `new_entry` should have the bytes datatype."
   ]
  },
  {
   "cell_type": "code",
   "execution_count": 10,
   "metadata": {
    "execution": {
     "iopub.execute_input": "2021-12-07T15:19:36.158887Z",
     "iopub.status.busy": "2021-12-07T15:19:36.158057Z",
     "iopub.status.idle": "2021-12-07T15:19:36.167982Z",
     "shell.execute_reply": "2021-12-07T15:19:36.167143Z",
     "shell.execute_reply.started": "2021-12-07T15:19:36.158843Z"
    }
   },
   "outputs": [],
   "source": [
    "string = sample_entry.decode(\"big5-tw\")\n",
    "new_entry = string.encode(\"utf-8\")\n",
    "\n",
    "# Check your answer\n",
    "q1.check()"
   ]
  },
  {
   "cell_type": "code",
   "execution_count": 12,
   "metadata": {
    "execution": {
     "iopub.execute_input": "2021-12-07T15:19:43.916302Z",
     "iopub.status.busy": "2021-12-07T15:19:43.915858Z",
     "iopub.status.idle": "2021-12-07T15:19:43.919375Z",
     "shell.execute_reply": "2021-12-07T15:19:43.918719Z",
     "shell.execute_reply.started": "2021-12-07T15:19:43.916251Z"
    }
   },
   "outputs": [],
   "source": [
    "# Lines below will give you a hint or solution code\n",
    "#q1.hint()\n",
    "#q1.solution()"
   ]
  },
  {
   "cell_type": "markdown",
   "metadata": {},
   "source": [
    "# 2) Reading in files with encoding problems\n",
    "\n",
    "Use the code cell below to read in this file at path `\"../input/fatal-police-shootings-in-the-us/PoliceKillingsUS.csv\"`.  \n",
    "\n",
    "Figure out what the correct encoding should be and read in the file to a DataFrame `police_killings`."
   ]
  },
  {
   "cell_type": "code",
   "execution_count": 25,
   "metadata": {
    "execution": {
     "iopub.execute_input": "2021-12-07T15:27:35.785920Z",
     "iopub.status.busy": "2021-12-07T15:27:35.785532Z",
     "iopub.status.idle": "2021-12-07T15:27:35.813180Z",
     "shell.execute_reply": "2021-12-07T15:27:35.812584Z",
     "shell.execute_reply.started": "2021-12-07T15:27:35.785885Z"
    }
   },
   "outputs": [],
   "source": [
    "# TODO: Load in the DataFrame correctly.\n",
    "police_killings = pd.read_csv(\"../input/fatal-police-shootings-in-the-us/PoliceKillingsUS.csv\",\n",
    "                             encoding='Windows-1252')\n",
    "\n",
    "# Check your answer\n",
    "q2.check()"
   ]
  },
  {
   "cell_type": "markdown",
   "metadata": {},
   "source": [
    "Feel free to use any additional code cells for supplemental work.  To get credit for finishing this question, you'll need to run `q2.check()` and get a result of **Correct**."
   ]
  },
  {
   "cell_type": "code",
   "execution_count": 23,
   "metadata": {
    "execution": {
     "iopub.execute_input": "2021-12-07T15:27:19.784393Z",
     "iopub.status.busy": "2021-12-07T15:27:19.783548Z",
     "iopub.status.idle": "2021-12-07T15:27:21.318238Z",
     "shell.execute_reply": "2021-12-07T15:27:21.317347Z",
     "shell.execute_reply.started": "2021-12-07T15:27:19.784336Z"
    }
   },
   "outputs": [],
   "source": [
    "# (Optional) Use this code cell for any additional work.\n",
    "with open(\"../input/fatal-police-shootings-in-the-us/PoliceKillingsUS.csv\", 'rb') as rawdata:\n",
    "    before = chardet.detect(rawdata.read(100000))\n",
    "print(before)"
   ]
  },
  {
   "cell_type": "code",
   "execution_count": 22,
   "metadata": {
    "execution": {
     "iopub.execute_input": "2021-12-07T15:27:15.912303Z",
     "iopub.status.busy": "2021-12-07T15:27:15.910825Z",
     "iopub.status.idle": "2021-12-07T15:27:15.920665Z",
     "shell.execute_reply": "2021-12-07T15:27:15.919501Z",
     "shell.execute_reply.started": "2021-12-07T15:27:15.912205Z"
    }
   },
   "outputs": [],
   "source": [
    "# Lines below will give you a hint or solution code\n",
    "q2.hint()\n",
    "#q2.solution()"
   ]
  },
  {
   "cell_type": "markdown",
   "metadata": {},
   "source": [
    "# 3) Saving your files with UTF-8 encoding\n",
    "\n",
    "Save a version of the police killings dataset to CSV with UTF-8 encoding.  Your answer will be marked correct after saving this file.  \n",
    "\n",
    "Note: When using the `to_csv()` method, supply only the name of the file (e.g., `\"my_file.csv\"`).  This saves the file at the filepath `\"/kaggle/working/my_file.csv\"`."
   ]
  },
  {
   "cell_type": "code",
   "execution_count": 26,
   "metadata": {
    "execution": {
     "iopub.execute_input": "2021-12-07T15:28:36.966231Z",
     "iopub.status.busy": "2021-12-07T15:28:36.965758Z",
     "iopub.status.idle": "2021-12-07T15:28:37.008894Z",
     "shell.execute_reply": "2021-12-07T15:28:37.008183Z",
     "shell.execute_reply.started": "2021-12-07T15:28:36.966198Z"
    }
   },
   "outputs": [],
   "source": [
    "# TODO: Save the police killings dataset to CSV\n",
    "police_killings.to_csv(\"my_file.csv\")\n",
    "\n",
    "# Check your answer\n",
    "q3.check()"
   ]
  },
  {
   "cell_type": "code",
   "execution_count": null,
   "metadata": {},
   "outputs": [],
   "source": [
    "# Lines below will give you a hint or solution code\n",
    "#q3.hint()\n",
    "#q3.solution()"
   ]
  },
  {
   "cell_type": "markdown",
   "metadata": {},
   "source": [
    "# (Optional) More practice\n",
    "\n",
    "Check out [this dataset of files in different character encodings](https://www.kaggle.com/rtatman/character-encoding-examples). Can you read in all the files with their original encodings and them save them out as UTF-8 files?\n",
    "\n",
    "If you have a file that's in UTF-8 but has just a couple of weird-looking characters in it, you can try out the [ftfy module](https://ftfy.readthedocs.io/en/latest/#) and see if it helps. \n",
    "\n",
    "# Keep going\n",
    "\n",
    "In the final lesson, learn how to [**clean up inconsistent text entries**](https://www.kaggle.com/alexisbcook/inconsistent-data-entry) in your dataset."
   ]
  },
  {
   "cell_type": "markdown",
   "metadata": {},
   "source": [
    "---\n",
    "\n",
    "\n",
    "\n",
    "\n",
    "*Have questions or comments? Visit the [course discussion forum](https://www.kaggle.com/learn/data-cleaning/discussion) to chat with other learners.*"
   ]
  }
 ],
 "metadata": {
  "kernelspec": {
   "display_name": "Python 3",
   "language": "python",
   "name": "python3"
  },
  "language_info": {
   "codemirror_mode": {
    "name": "ipython",
    "version": 3
   },
   "file_extension": ".py",
   "mimetype": "text/x-python",
   "name": "python",
   "nbconvert_exporter": "python",
   "pygments_lexer": "ipython3",
   "version": "3.7.12"
  }
 },
 "nbformat": 4,
 "nbformat_minor": 4
}
