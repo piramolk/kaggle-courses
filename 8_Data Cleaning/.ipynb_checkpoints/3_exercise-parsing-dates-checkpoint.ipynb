{
 "cells": [
  {
   "cell_type": "markdown",
   "metadata": {},
   "source": [
    "**This notebook is an exercise in the [Data Cleaning](https://www.kaggle.com/learn/data-cleaning) course.  You can reference the tutorial at [this link](https://www.kaggle.com/alexisbcook/parsing-dates).**\n",
    "\n",
    "---\n"
   ]
  },
  {
   "cell_type": "markdown",
   "metadata": {},
   "source": [
    "In this exercise, you'll apply what you learned in the **Parsing dates** tutorial.\n",
    "\n",
    "# Setup\n",
    "\n",
    "The questions below will give you feedback on your work. Run the following cell to set up the feedback system."
   ]
  },
  {
   "cell_type": "code",
   "execution_count": 1,
   "metadata": {
    "execution": {
     "iopub.execute_input": "2021-12-07T14:26:01.334319Z",
     "iopub.status.busy": "2021-12-07T14:26:01.333738Z",
     "iopub.status.idle": "2021-12-07T14:26:02.677837Z",
     "shell.execute_reply": "2021-12-07T14:26:02.676239Z",
     "shell.execute_reply.started": "2021-12-07T14:26:01.334222Z"
    }
   },
   "outputs": [],
   "source": [
    "from learntools.core import binder\n",
    "binder.bind(globals())\n",
    "from learntools.data_cleaning.ex3 import *\n",
    "print(\"Setup Complete\")"
   ]
  },
  {
   "cell_type": "markdown",
   "metadata": {},
   "source": [
    "# Get our environment set up\n",
    "\n",
    "The first thing we'll need to do is load in the libraries and dataset we'll be using. We'll be working with a dataset containing information on earthquakes that occured between 1965 and 2016."
   ]
  },
  {
   "cell_type": "code",
   "execution_count": 2,
   "metadata": {
    "execution": {
     "iopub.execute_input": "2021-12-07T14:26:02.679703Z",
     "iopub.status.busy": "2021-12-07T14:26:02.679246Z",
     "iopub.status.idle": "2021-12-07T14:26:02.768608Z",
     "shell.execute_reply": "2021-12-07T14:26:02.767824Z",
     "shell.execute_reply.started": "2021-12-07T14:26:02.679667Z"
    }
   },
   "outputs": [],
   "source": [
    "# modules we'll use\n",
    "import pandas as pd\n",
    "import numpy as np\n",
    "import seaborn as sns\n",
    "import datetime\n",
    "\n",
    "# read in our data\n",
    "earthquakes = pd.read_csv(\"../input/earthquake-database/database.csv\")\n",
    "\n",
    "# set seed for reproducibility\n",
    "np.random.seed(0)"
   ]
  },
  {
   "cell_type": "markdown",
   "metadata": {},
   "source": [
    "# 1) Check the data type of our date column\n",
    "\n",
    "You'll be working with the \"Date\" column from the `earthquakes` dataframe.  Investigate this column now: does it look like it contains dates?  What is the dtype of the column?"
   ]
  },
  {
   "cell_type": "code",
   "execution_count": 4,
   "metadata": {
    "execution": {
     "iopub.execute_input": "2021-12-07T14:26:15.653489Z",
     "iopub.status.busy": "2021-12-07T14:26:15.653201Z",
     "iopub.status.idle": "2021-12-07T14:26:15.662168Z",
     "shell.execute_reply": "2021-12-07T14:26:15.661548Z",
     "shell.execute_reply.started": "2021-12-07T14:26:15.653460Z"
    }
   },
   "outputs": [],
   "source": [
    "# TODO: Your code here!\n",
    "#earthquakes.columns\n",
    "earthquakes['Date']"
   ]
  },
  {
   "cell_type": "markdown",
   "metadata": {},
   "source": [
    "Once you have answered the question above, run the code cell below to get credit for your work."
   ]
  },
  {
   "cell_type": "code",
   "execution_count": 5,
   "metadata": {
    "execution": {
     "iopub.execute_input": "2021-12-07T14:26:27.737351Z",
     "iopub.status.busy": "2021-12-07T14:26:27.736153Z",
     "iopub.status.idle": "2021-12-07T14:26:27.745949Z",
     "shell.execute_reply": "2021-12-07T14:26:27.744899Z",
     "shell.execute_reply.started": "2021-12-07T14:26:27.737307Z"
    }
   },
   "outputs": [],
   "source": [
    "# Check your answer (Run this code cell to receive credit!)\n",
    "q1.check()"
   ]
  },
  {
   "cell_type": "code",
   "execution_count": null,
   "metadata": {},
   "outputs": [],
   "source": [
    "# Line below will give you a hint\n",
    "#q1.hint()"
   ]
  },
  {
   "cell_type": "markdown",
   "metadata": {},
   "source": [
    "# 2) Convert our date columns to datetime\n",
    "\n",
    "Most of the entries in the \"Date\" column follow the same format: \"month/day/four-digit year\".  However, the entry at index 3378 follows a completely different pattern.  Run the code cell below to see this."
   ]
  },
  {
   "cell_type": "code",
   "execution_count": 6,
   "metadata": {
    "execution": {
     "iopub.execute_input": "2021-12-07T14:26:34.194312Z",
     "iopub.status.busy": "2021-12-07T14:26:34.194035Z",
     "iopub.status.idle": "2021-12-07T14:26:34.230040Z",
     "shell.execute_reply": "2021-12-07T14:26:34.228987Z",
     "shell.execute_reply.started": "2021-12-07T14:26:34.194283Z"
    }
   },
   "outputs": [],
   "source": [
    "earthquakes[3378:3383]"
   ]
  },
  {
   "cell_type": "markdown",
   "metadata": {},
   "source": [
    "This does appear to be an issue with data entry: ideally, all entries in the column have the same format.  We can get an idea of how widespread this issue is by checking the length of each entry in the \"Date\" column."
   ]
  },
  {
   "cell_type": "code",
   "execution_count": 7,
   "metadata": {
    "execution": {
     "iopub.execute_input": "2021-12-07T14:26:52.121686Z",
     "iopub.status.busy": "2021-12-07T14:26:52.121221Z",
     "iopub.status.idle": "2021-12-07T14:26:52.150365Z",
     "shell.execute_reply": "2021-12-07T14:26:52.149554Z",
     "shell.execute_reply.started": "2021-12-07T14:26:52.121642Z"
    }
   },
   "outputs": [],
   "source": [
    "date_lengths = earthquakes.Date.str.len()\n",
    "date_lengths.value_counts()"
   ]
  },
  {
   "cell_type": "markdown",
   "metadata": {},
   "source": [
    "Looks like there are two more rows that has a date in a different format.  Run the code cell below to obtain the indices corresponding to those rows and print the data."
   ]
  },
  {
   "cell_type": "code",
   "execution_count": 8,
   "metadata": {
    "execution": {
     "iopub.execute_input": "2021-12-07T14:26:59.991981Z",
     "iopub.status.busy": "2021-12-07T14:26:59.991678Z",
     "iopub.status.idle": "2021-12-07T14:27:00.021714Z",
     "shell.execute_reply": "2021-12-07T14:27:00.021118Z",
     "shell.execute_reply.started": "2021-12-07T14:26:59.991948Z"
    }
   },
   "outputs": [],
   "source": [
    "indices = np.where([date_lengths == 24])[1]\n",
    "print('Indices with corrupted data:', indices)\n",
    "earthquakes.loc[indices]"
   ]
  },
  {
   "cell_type": "markdown",
   "metadata": {},
   "source": [
    "Given all of this information, it's your turn to create a new column \"date_parsed\" in the `earthquakes` dataset that has correctly parsed dates in it.  \n",
    "\n",
    "**Note**: When completing this problem, you are allowed to (but are not required to) amend the entries in the \"Date\" and \"Time\" columns.  Do not remove any rows from the dataset."
   ]
  },
  {
   "cell_type": "code",
   "execution_count": 41,
   "metadata": {
    "execution": {
     "iopub.execute_input": "2021-12-07T14:57:28.085393Z",
     "iopub.status.busy": "2021-12-07T14:57:28.085097Z",
     "iopub.status.idle": "2021-12-07T14:57:28.090996Z",
     "shell.execute_reply": "2021-12-07T14:57:28.090186Z",
     "shell.execute_reply.started": "2021-12-07T14:57:28.085360Z"
    }
   },
   "outputs": [],
   "source": [
    "len(earthquakes['Date'][0])"
   ]
  },
  {
   "cell_type": "code",
   "execution_count": 51,
   "metadata": {
    "execution": {
     "iopub.execute_input": "2021-12-07T15:01:08.667631Z",
     "iopub.status.busy": "2021-12-07T15:01:08.667118Z",
     "iopub.status.idle": "2021-12-07T15:01:11.390113Z",
     "shell.execute_reply": "2021-12-07T15:01:11.389069Z",
     "shell.execute_reply.started": "2021-12-07T15:01:08.667595Z"
    }
   },
   "outputs": [],
   "source": [
    "# TODO: Your code here\n",
    "#earthquakes['Date'].where(earthquakes['Date'].str.len()==10,pd.to_datetime(earthquakes['Date'],format=\"%m/%d/%Y\"),pd.to_datetime(earthquakes['Date'],infer_datetime_format=True))\n",
    "earthquakes['date_parsed'] = earthquakes['Date'].apply(lambda x: pd.to_datetime(x,format=\"%m/%d/%Y\") if len(x)==10 else pd.to_datetime(x[:10],format=\"%Y-%m-%d\"))\n",
    "# Check your answer\n",
    "q2.check()"
   ]
  },
  {
   "cell_type": "code",
   "execution_count": 52,
   "metadata": {
    "execution": {
     "iopub.execute_input": "2021-12-07T15:01:14.214037Z",
     "iopub.status.busy": "2021-12-07T15:01:14.213757Z",
     "iopub.status.idle": "2021-12-07T15:01:14.221321Z",
     "shell.execute_reply": "2021-12-07T15:01:14.220562Z",
     "shell.execute_reply.started": "2021-12-07T15:01:14.214008Z"
    }
   },
   "outputs": [],
   "source": [
    "# Lines below will give you a hint or solution code\n",
    "#q2.hint()\n",
    "q2.solution()"
   ]
  },
  {
   "cell_type": "markdown",
   "metadata": {},
   "source": [
    "# 3) Select the day of the month\n",
    "\n",
    "Create a Pandas Series `day_of_month_earthquakes` containing the day of the month from the \"date_parsed\" column."
   ]
  },
  {
   "cell_type": "code",
   "execution_count": 53,
   "metadata": {
    "execution": {
     "iopub.execute_input": "2021-12-07T15:01:48.103645Z",
     "iopub.status.busy": "2021-12-07T15:01:48.102850Z",
     "iopub.status.idle": "2021-12-07T15:01:48.114592Z",
     "shell.execute_reply": "2021-12-07T15:01:48.113728Z",
     "shell.execute_reply.started": "2021-12-07T15:01:48.103586Z"
    }
   },
   "outputs": [],
   "source": [
    "# try to get the day of the month from the date column\n",
    "day_of_month_earthquakes = earthquakes['date_parsed'].dt.day\n",
    "\n",
    "# Check your answer\n",
    "q3.check()"
   ]
  },
  {
   "cell_type": "code",
   "execution_count": 55,
   "metadata": {
    "execution": {
     "iopub.execute_input": "2021-12-07T15:01:54.517203Z",
     "iopub.status.busy": "2021-12-07T15:01:54.516619Z",
     "iopub.status.idle": "2021-12-07T15:01:54.521103Z",
     "shell.execute_reply": "2021-12-07T15:01:54.520485Z",
     "shell.execute_reply.started": "2021-12-07T15:01:54.517154Z"
    }
   },
   "outputs": [],
   "source": [
    "# Lines below will give you a hint or solution code\n",
    "#q3.hint()\n",
    "#q3.solution()"
   ]
  },
  {
   "cell_type": "markdown",
   "metadata": {},
   "source": [
    "# 4) Plot the day of the month to check the date parsing\n",
    "\n",
    "Plot the days of the month from your earthquake dataset."
   ]
  },
  {
   "cell_type": "code",
   "execution_count": 56,
   "metadata": {
    "execution": {
     "iopub.execute_input": "2021-12-07T15:02:26.328172Z",
     "iopub.status.busy": "2021-12-07T15:02:26.327777Z",
     "iopub.status.idle": "2021-12-07T15:02:26.613783Z",
     "shell.execute_reply": "2021-12-07T15:02:26.612999Z",
     "shell.execute_reply.started": "2021-12-07T15:02:26.328143Z"
    }
   },
   "outputs": [],
   "source": [
    "# TODO: Your code here!\n",
    "sns.distplot(day_of_month_earthquakes,kde=False,bins=31)"
   ]
  },
  {
   "cell_type": "markdown",
   "metadata": {},
   "source": [
    "Does the graph make sense to you?"
   ]
  },
  {
   "cell_type": "code",
   "execution_count": 57,
   "metadata": {
    "execution": {
     "iopub.execute_input": "2021-12-07T15:02:34.913985Z",
     "iopub.status.busy": "2021-12-07T15:02:34.913673Z",
     "iopub.status.idle": "2021-12-07T15:02:34.921217Z",
     "shell.execute_reply": "2021-12-07T15:02:34.920413Z",
     "shell.execute_reply.started": "2021-12-07T15:02:34.913952Z"
    }
   },
   "outputs": [],
   "source": [
    "# Check your answer (Run this code cell to receive credit!)\n",
    "q4.check()"
   ]
  },
  {
   "cell_type": "code",
   "execution_count": 58,
   "metadata": {
    "execution": {
     "iopub.execute_input": "2021-12-07T15:02:42.775996Z",
     "iopub.status.busy": "2021-12-07T15:02:42.775700Z",
     "iopub.status.idle": "2021-12-07T15:02:42.779807Z",
     "shell.execute_reply": "2021-12-07T15:02:42.778802Z",
     "shell.execute_reply.started": "2021-12-07T15:02:42.775962Z"
    }
   },
   "outputs": [],
   "source": [
    "# Line below will give you a hint\n",
    "#q4.hint()"
   ]
  },
  {
   "cell_type": "markdown",
   "metadata": {},
   "source": [
    "# (Optional) Bonus Challenge\n",
    "\n",
    "For an extra challenge, you'll work with a [Smithsonian dataset](https://www.kaggle.com/smithsonian/volcanic-eruptions) that documents Earth's volcanoes and their eruptive history over the past 10,000 years \n",
    "\n",
    "Run the next code cell to load the data."
   ]
  },
  {
   "cell_type": "code",
   "execution_count": 59,
   "metadata": {
    "execution": {
     "iopub.execute_input": "2021-12-07T15:02:51.496932Z",
     "iopub.status.busy": "2021-12-07T15:02:51.496636Z",
     "iopub.status.idle": "2021-12-07T15:02:51.523988Z",
     "shell.execute_reply": "2021-12-07T15:02:51.523121Z",
     "shell.execute_reply.started": "2021-12-07T15:02:51.496904Z"
    }
   },
   "outputs": [],
   "source": [
    "volcanos = pd.read_csv(\"../input/volcanic-eruptions/database.csv\")"
   ]
  },
  {
   "cell_type": "markdown",
   "metadata": {},
   "source": [
    "Try parsing the column \"Last Known Eruption\" from the `volcanos` dataframe. This column contains a mixture of text (\"Unknown\") and years both before the common era (BCE, also known as BC) and in the common era (CE, also known as AD)."
   ]
  },
  {
   "cell_type": "code",
   "execution_count": 60,
   "metadata": {
    "execution": {
     "iopub.execute_input": "2021-12-07T15:03:20.699826Z",
     "iopub.status.busy": "2021-12-07T15:03:20.699511Z",
     "iopub.status.idle": "2021-12-07T15:03:20.708731Z",
     "shell.execute_reply": "2021-12-07T15:03:20.707913Z",
     "shell.execute_reply.started": "2021-12-07T15:03:20.699794Z"
    }
   },
   "outputs": [],
   "source": [
    "volcanos['Last Known Eruption'].sample(5)"
   ]
  },
  {
   "cell_type": "markdown",
   "metadata": {},
   "source": [
    "# (Optional) More practice\n",
    "\n",
    "If you're interested in graphing time series, [check out this tutorial](https://www.kaggle.com/residentmario/time-series-plotting-optional).\n",
    "\n",
    "You can also look into passing columns that you know have dates in them  the `parse_dates` argument in `read_csv`. (The documention [is here](https://pandas.pydata.org/pandas-docs/stable/generated/pandas.read_csv.html).) Do note that this method can be very slow, but depending on your needs it may sometimes be handy to use.\n",
    "\n",
    "# Keep going\n",
    "\n",
    "In the next lesson, learn how to [**work with character encodings**](https://www.kaggle.com/alexisbcook/character-encodings)."
   ]
  },
  {
   "cell_type": "markdown",
   "metadata": {},
   "source": [
    "---\n",
    "\n",
    "\n",
    "\n",
    "\n",
    "*Have questions or comments? Visit the [course discussion forum](https://www.kaggle.com/learn/data-cleaning/discussion) to chat with other learners.*"
   ]
  }
 ],
 "metadata": {
  "kernelspec": {
   "display_name": "Python 3",
   "language": "python",
   "name": "python3"
  },
  "language_info": {
   "codemirror_mode": {
    "name": "ipython",
    "version": 3
   },
   "file_extension": ".py",
   "mimetype": "text/x-python",
   "name": "python",
   "nbconvert_exporter": "python",
   "pygments_lexer": "ipython3",
   "version": "3.7.12"
  }
 },
 "nbformat": 4,
 "nbformat_minor": 4
}
