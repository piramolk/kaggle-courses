{
 "cells": [
  {
   "cell_type": "markdown",
   "metadata": {},
   "source": [
    "**This notebook is an exercise in the [Data Cleaning](https://www.kaggle.com/learn/data-cleaning) course.  You can reference the tutorial at [this link](https://www.kaggle.com/alexisbcook/handling-missing-values).**\n",
    "\n",
    "---\n"
   ]
  },
  {
   "cell_type": "markdown",
   "metadata": {},
   "source": [
    "In this exercise, you'll apply what you learned in the **Handling missing values** tutorial.\n",
    "\n",
    "# Setup\n",
    "\n",
    "The questions below will give you feedback on your work. Run the following cell to set up the feedback system."
   ]
  },
  {
   "cell_type": "code",
   "execution_count": null,
   "metadata": {
    "execution": {
     "iopub.execute_input": "2021-12-06T11:33:05.832374Z",
     "iopub.status.busy": "2021-12-06T11:33:05.832066Z",
     "iopub.status.idle": "2021-12-06T11:33:09.888769Z",
     "shell.execute_reply": "2021-12-06T11:33:09.887739Z",
     "shell.execute_reply.started": "2021-12-06T11:33:05.832342Z"
    }
   },
   "outputs": [],
   "source": [
    "from learntools.core import binder\n",
    "binder.bind(globals())\n",
    "from learntools.data_cleaning.ex1 import *\n",
    "print(\"Setup Complete\")"
   ]
  },
  {
   "cell_type": "markdown",
   "metadata": {},
   "source": [
    "# 1) Take a first look at the data\n",
    "\n",
    "Run the next code cell to load in the libraries and dataset you'll use to complete the exercise."
   ]
  },
  {
   "cell_type": "code",
   "execution_count": null,
   "metadata": {
    "execution": {
     "iopub.execute_input": "2021-12-06T11:33:09.890817Z",
     "iopub.status.busy": "2021-12-06T11:33:09.890521Z",
     "iopub.status.idle": "2021-12-06T11:33:11.594036Z",
     "shell.execute_reply": "2021-12-06T11:33:11.593206Z",
     "shell.execute_reply.started": "2021-12-06T11:33:09.890779Z"
    }
   },
   "outputs": [],
   "source": [
    "# modules we'll use\n",
    "import pandas as pd\n",
    "import numpy as np\n",
    "\n",
    "# read in all our data\n",
    "sf_permits = pd.read_csv(\"../input/building-permit-applications-data/Building_Permits.csv\")\n",
    "\n",
    "# set seed for reproducibility\n",
    "np.random.seed(0) "
   ]
  },
  {
   "cell_type": "markdown",
   "metadata": {},
   "source": [
    "Use the code cell below to print the first five rows of the `sf_permits` DataFrame."
   ]
  },
  {
   "cell_type": "code",
   "execution_count": null,
   "metadata": {
    "execution": {
     "iopub.execute_input": "2021-12-06T11:33:11.595701Z",
     "iopub.status.busy": "2021-12-06T11:33:11.595329Z",
     "iopub.status.idle": "2021-12-06T11:33:11.628837Z",
     "shell.execute_reply": "2021-12-06T11:33:11.628034Z",
     "shell.execute_reply.started": "2021-12-06T11:33:11.595646Z"
    }
   },
   "outputs": [],
   "source": [
    "# TODO: Your code here!\n",
    "sf_permits.head()"
   ]
  },
  {
   "cell_type": "code",
   "execution_count": null,
   "metadata": {
    "execution": {
     "iopub.execute_input": "2021-12-06T11:33:23.340048Z",
     "iopub.status.busy": "2021-12-06T11:33:23.339103Z",
     "iopub.status.idle": "2021-12-06T11:33:23.603412Z",
     "shell.execute_reply": "2021-12-06T11:33:23.602499Z",
     "shell.execute_reply.started": "2021-12-06T11:33:23.339994Z"
    }
   },
   "outputs": [],
   "source": [
    "sf_permits.isnull().sum()"
   ]
  },
  {
   "cell_type": "code",
   "execution_count": null,
   "metadata": {
    "execution": {
     "iopub.execute_input": "2021-12-06T11:34:14.668668Z",
     "iopub.status.busy": "2021-12-06T11:34:14.668154Z",
     "iopub.status.idle": "2021-12-06T11:34:14.929526Z",
     "shell.execute_reply": "2021-12-06T11:34:14.928842Z",
     "shell.execute_reply.started": "2021-12-06T11:34:14.668616Z"
    }
   },
   "outputs": [],
   "source": [
    "sf_permits.notnull().sum()"
   ]
  },
  {
   "cell_type": "markdown",
   "metadata": {},
   "source": [
    "Does the dataset have any missing values?  Once you have an answer, run the code cell below to get credit for your work."
   ]
  },
  {
   "cell_type": "code",
   "execution_count": null,
   "metadata": {
    "execution": {
     "iopub.execute_input": "2021-12-06T11:33:11.630539Z",
     "iopub.status.busy": "2021-12-06T11:33:11.630315Z",
     "iopub.status.idle": "2021-12-06T11:33:11.637734Z",
     "shell.execute_reply": "2021-12-06T11:33:11.636933Z",
     "shell.execute_reply.started": "2021-12-06T11:33:11.630511Z"
    }
   },
   "outputs": [],
   "source": [
    "# Check your answer (Run this code cell to receive credit!)\n",
    "q1.check()"
   ]
  },
  {
   "cell_type": "code",
   "execution_count": null,
   "metadata": {},
   "outputs": [],
   "source": [
    "# Line below will give you a hint\n",
    "#q1.hint()"
   ]
  },
  {
   "cell_type": "markdown",
   "metadata": {},
   "source": [
    "# 2) How many missing data points do we have?\n",
    "\n",
    "What percentage of the values in the dataset are missing?  Your answer should be a number between 0 and 100.  (If 1/4 of the values in the dataset are missing, the answer is 25.)"
   ]
  },
  {
   "cell_type": "code",
   "execution_count": null,
   "metadata": {
    "execution": {
     "iopub.execute_input": "2021-12-06T11:36:34.675097Z",
     "iopub.status.busy": "2021-12-06T11:36:34.674761Z",
     "iopub.status.idle": "2021-12-06T11:36:34.93434Z",
     "shell.execute_reply": "2021-12-06T11:36:34.933444Z",
     "shell.execute_reply.started": "2021-12-06T11:36:34.675058Z"
    }
   },
   "outputs": [],
   "source": [
    "sf_permits.isnull().sum().sum()\n",
    "np.product(sf_permits.shape)"
   ]
  },
  {
   "cell_type": "code",
   "execution_count": null,
   "metadata": {
    "execution": {
     "iopub.execute_input": "2021-12-06T11:36:58.831178Z",
     "iopub.status.busy": "2021-12-06T11:36:58.830843Z",
     "iopub.status.idle": "2021-12-06T11:36:59.092509Z",
     "shell.execute_reply": "2021-12-06T11:36:59.091715Z",
     "shell.execute_reply.started": "2021-12-06T11:36:58.831147Z"
    }
   },
   "outputs": [],
   "source": [
    "# TODO: Your code here!\n",
    "percent_missing = sf_permits.isnull().sum().sum() / np.product(sf_permits.shape) *100\n",
    "print(percent_missing)\n",
    "# Check your answer\n",
    "q2.check()"
   ]
  },
  {
   "cell_type": "code",
   "execution_count": null,
   "metadata": {
    "execution": {
     "iopub.execute_input": "2021-12-06T11:37:10.366957Z",
     "iopub.status.busy": "2021-12-06T11:37:10.36664Z",
     "iopub.status.idle": "2021-12-06T11:37:10.37045Z",
     "shell.execute_reply": "2021-12-06T11:37:10.36984Z",
     "shell.execute_reply.started": "2021-12-06T11:37:10.366926Z"
    }
   },
   "outputs": [],
   "source": [
    "# Lines below will give you a hint or solution code\n",
    "#q2.hint()\n",
    "#q2.solution()"
   ]
  },
  {
   "cell_type": "markdown",
   "metadata": {},
   "source": [
    "# 3) Figure out why the data is missing\n",
    "\n",
    "Look at the columns **\"Street Number Suffix\"** and **\"Zipcode\"** from the [San Francisco Building Permits dataset](https://www.kaggle.com/aparnashastry/building-permit-applications-data). Both of these contain missing values. \n",
    "- Which, if either, are missing because they don't exist? \n",
    "- Which, if either, are missing because they weren't recorded?  \n",
    "\n",
    "Once you have an answer, run the code cell below."
   ]
  },
  {
   "cell_type": "code",
   "execution_count": null,
   "metadata": {
    "execution": {
     "iopub.execute_input": "2021-12-06T11:38:05.555136Z",
     "iopub.status.busy": "2021-12-06T11:38:05.554363Z",
     "iopub.status.idle": "2021-12-06T11:38:05.575628Z",
     "shell.execute_reply": "2021-12-06T11:38:05.574815Z",
     "shell.execute_reply.started": "2021-12-06T11:38:05.555086Z"
    }
   },
   "outputs": [],
   "source": [
    "sf_permits[[\"Street Number Suffix\",\"Zipcode\"]]"
   ]
  },
  {
   "cell_type": "code",
   "execution_count": null,
   "metadata": {
    "execution": {
     "iopub.execute_input": "2021-12-06T11:38:18.272494Z",
     "iopub.status.busy": "2021-12-06T11:38:18.270248Z",
     "iopub.status.idle": "2021-12-06T11:38:18.279248Z",
     "shell.execute_reply": "2021-12-06T11:38:18.278693Z",
     "shell.execute_reply.started": "2021-12-06T11:38:18.27244Z"
    }
   },
   "outputs": [],
   "source": [
    "# Check your answer (Run this code cell to receive credit!)\n",
    "q3.check()"
   ]
  },
  {
   "cell_type": "code",
   "execution_count": null,
   "metadata": {},
   "outputs": [],
   "source": [
    "# Line below will give you a hint\n",
    "#q3.hint()"
   ]
  },
  {
   "cell_type": "markdown",
   "metadata": {},
   "source": [
    "# 4) Drop missing values: rows\n",
    "\n",
    "If you removed all of the rows of `sf_permits` with missing values, how many rows are left?\n",
    "\n",
    "**Note**: Do not change the value of `sf_permits` when checking this.  "
   ]
  },
  {
   "cell_type": "code",
   "execution_count": null,
   "metadata": {
    "execution": {
     "iopub.execute_input": "2021-12-06T11:38:50.37996Z",
     "iopub.status.busy": "2021-12-06T11:38:50.379609Z",
     "iopub.status.idle": "2021-12-06T11:38:50.654458Z",
     "shell.execute_reply": "2021-12-06T11:38:50.653679Z",
     "shell.execute_reply.started": "2021-12-06T11:38:50.379921Z"
    }
   },
   "outputs": [],
   "source": [
    "# TODO: Your code here!\n",
    "sf_permits.dropna()"
   ]
  },
  {
   "cell_type": "markdown",
   "metadata": {},
   "source": [
    "Once you have an answer, run the code cell below."
   ]
  },
  {
   "cell_type": "code",
   "execution_count": null,
   "metadata": {
    "execution": {
     "iopub.execute_input": "2021-12-06T11:38:59.544214Z",
     "iopub.status.busy": "2021-12-06T11:38:59.543387Z",
     "iopub.status.idle": "2021-12-06T11:38:59.551515Z",
     "shell.execute_reply": "2021-12-06T11:38:59.550704Z",
     "shell.execute_reply.started": "2021-12-06T11:38:59.544159Z"
    }
   },
   "outputs": [],
   "source": [
    "# Check your answer (Run this code cell to receive credit!)\n",
    "q4.check()"
   ]
  },
  {
   "cell_type": "code",
   "execution_count": null,
   "metadata": {},
   "outputs": [],
   "source": [
    "# Line below will give you a hint\n",
    "#q4.hint()"
   ]
  },
  {
   "cell_type": "markdown",
   "metadata": {},
   "source": [
    "# 5) Drop missing values: columns\n",
    "\n",
    "Now try removing all the columns with empty values.  \n",
    "- Create a new DataFrame called `sf_permits_with_na_dropped` that has all of the columns with empty values removed.  \n",
    "- How many columns were removed from the original `sf_permits` DataFrame? Use this number to set the value of the `dropped_columns` variable below."
   ]
  },
  {
   "cell_type": "code",
   "execution_count": null,
   "metadata": {
    "execution": {
     "iopub.execute_input": "2021-12-06T11:41:19.351278Z",
     "iopub.status.busy": "2021-12-06T11:41:19.350431Z",
     "iopub.status.idle": "2021-12-06T11:41:19.633453Z",
     "shell.execute_reply": "2021-12-06T11:41:19.632534Z",
     "shell.execute_reply.started": "2021-12-06T11:41:19.35123Z"
    }
   },
   "outputs": [],
   "source": [
    "# TODO: Your code here\n",
    "original_cols = sf_permits.columns\n",
    "sf_permits_with_na_dropped = sf_permits.dropna(axis=1)\n",
    "dropped_cols = list(set(original_cols)-set(sf_permits_with_na_dropped))\n",
    "dropped_columns = len(dropped_cols)\n",
    "\n",
    "# Check your answer\n",
    "q5.check()"
   ]
  },
  {
   "cell_type": "code",
   "execution_count": null,
   "metadata": {
    "execution": {
     "iopub.execute_input": "2021-12-06T11:41:22.11316Z",
     "iopub.status.busy": "2021-12-06T11:41:22.112833Z",
     "iopub.status.idle": "2021-12-06T11:41:22.122096Z",
     "shell.execute_reply": "2021-12-06T11:41:22.121251Z",
     "shell.execute_reply.started": "2021-12-06T11:41:22.113125Z"
    }
   },
   "outputs": [],
   "source": [
    "# Lines below will give you a hint or solution code\n",
    "#q5.hint()\n",
    "q5.solution()"
   ]
  },
  {
   "cell_type": "markdown",
   "metadata": {},
   "source": [
    "# 6) Fill in missing values automatically\n",
    "\n",
    "Try replacing all the NaN's in the `sf_permits` data with the one that comes directly after it and then replacing any remaining NaN's with 0.  Set the result to a new DataFrame `sf_permits_with_na_imputed`."
   ]
  },
  {
   "cell_type": "code",
   "execution_count": null,
   "metadata": {
    "execution": {
     "iopub.execute_input": "2021-12-06T11:42:30.597827Z",
     "iopub.status.busy": "2021-12-06T11:42:30.597323Z",
     "iopub.status.idle": "2021-12-06T11:42:31.552243Z",
     "shell.execute_reply": "2021-12-06T11:42:31.551424Z",
     "shell.execute_reply.started": "2021-12-06T11:42:30.597787Z"
    }
   },
   "outputs": [],
   "source": [
    "# TODO: Your code here\n",
    "sf_permits_with_na_imputed = sf_permits.fillna(method='bfill',axis=0).fillna(0)\n",
    "\n",
    "# Check your answer\n",
    "q6.check()"
   ]
  },
  {
   "cell_type": "code",
   "execution_count": null,
   "metadata": {
    "execution": {
     "iopub.execute_input": "2021-12-06T11:42:34.930817Z",
     "iopub.status.busy": "2021-12-06T11:42:34.930263Z",
     "iopub.status.idle": "2021-12-06T11:42:34.938324Z",
     "shell.execute_reply": "2021-12-06T11:42:34.937732Z",
     "shell.execute_reply.started": "2021-12-06T11:42:34.930775Z"
    }
   },
   "outputs": [],
   "source": [
    "# Lines below will give you a hint or solution code\n",
    "#q6.hint()\n",
    "#\n",
    "q6.solution()"
   ]
  },
  {
   "cell_type": "markdown",
   "metadata": {},
   "source": [
    "# More practice\n",
    "\n",
    "If you're looking for more practice handling missing values:\n",
    "\n",
    "* Check out [this noteboook](https://www.kaggle.com/alexisbcook/missing-values) on handling missing values using scikit-learn's imputer. \n",
    "* Look back at the \"Zipcode\" column in the `sf_permits` dataset, which has some missing values. How would you go about figuring out what the actual zipcode of each address should be? (You might try using another dataset. You can search for datasets about San Fransisco on the [Datasets listing](https://www.kaggle.com/datasets).) \n",
    "\n",
    "# Keep going\n",
    "\n",
    "In the next lesson, learn how to [**apply scaling and normalization**](https://www.kaggle.com/alexisbcook/scaling-and-normalization) to transform your data."
   ]
  },
  {
   "cell_type": "markdown",
   "metadata": {},
   "source": [
    "---\n",
    "\n",
    "\n",
    "\n",
    "\n",
    "*Have questions or comments? Visit the [course discussion forum](https://www.kaggle.com/learn/data-cleaning/discussion) to chat with other learners.*"
   ]
  }
 ],
 "metadata": {
  "kernelspec": {
   "display_name": "Python 3",
   "language": "python",
   "name": "python3"
  },
  "language_info": {
   "codemirror_mode": {
    "name": "ipython",
    "version": 3
   },
   "file_extension": ".py",
   "mimetype": "text/x-python",
   "name": "python",
   "nbconvert_exporter": "python",
   "pygments_lexer": "ipython3",
   "version": "3.6.4"
  }
 },
 "nbformat": 4,
 "nbformat_minor": 4
}
