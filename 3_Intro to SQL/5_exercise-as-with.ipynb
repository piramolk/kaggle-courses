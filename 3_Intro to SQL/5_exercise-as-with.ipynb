{
 "cells": [
  {
   "cell_type": "markdown",
   "metadata": {},
   "source": [
    "**This notebook is an exercise in the [SQL](https://www.kaggle.com/learn/intro-to-sql) course.  You can reference the tutorial at [this link](https://www.kaggle.com/dansbecker/as-with).**\n",
    "\n",
    "---\n"
   ]
  },
  {
   "cell_type": "markdown",
   "metadata": {},
   "source": [
    "# Introduction\n",
    "\n",
    "You are getting to the point where you can own an analysis from beginning to end. So you'll do more data exploration in this exercise than you've done before.  Before you get started, run the following set-up code as usual. "
   ]
  },
  {
   "cell_type": "code",
   "execution_count": null,
   "metadata": {
    "execution": {
     "iopub.execute_input": "2021-12-03T08:12:17.041802Z",
     "iopub.status.busy": "2021-12-03T08:12:17.041351Z",
     "iopub.status.idle": "2021-12-03T08:12:19.304718Z",
     "shell.execute_reply": "2021-12-03T08:12:19.303633Z",
     "shell.execute_reply.started": "2021-12-03T08:12:17.041769Z"
    }
   },
   "outputs": [],
   "source": [
    "# Set up feedback system\n",
    "from learntools.core import binder\n",
    "binder.bind(globals())\n",
    "from learntools.sql.ex5 import *\n",
    "print(\"Setup Complete\")"
   ]
  },
  {
   "cell_type": "markdown",
   "metadata": {},
   "source": [
    "You'll work with a dataset about taxi trips in the city of Chicago. Run the cell below to fetch the `chicago_taxi_trips` dataset."
   ]
  },
  {
   "cell_type": "code",
   "execution_count": null,
   "metadata": {
    "execution": {
     "iopub.execute_input": "2021-12-03T08:12:19.306296Z",
     "iopub.status.busy": "2021-12-03T08:12:19.306061Z",
     "iopub.status.idle": "2021-12-03T08:12:19.5408Z",
     "shell.execute_reply": "2021-12-03T08:12:19.539913Z",
     "shell.execute_reply.started": "2021-12-03T08:12:19.306267Z"
    }
   },
   "outputs": [],
   "source": [
    "from google.cloud import bigquery\n",
    "\n",
    "# Create a \"Client\" object\n",
    "client = bigquery.Client()\n",
    "\n",
    "# Construct a reference to the \"chicago_taxi_trips\" dataset\n",
    "dataset_ref = client.dataset(\"chicago_taxi_trips\", project=\"bigquery-public-data\")\n",
    "\n",
    "# API request - fetch the dataset\n",
    "dataset = client.get_dataset(dataset_ref)"
   ]
  },
  {
   "cell_type": "markdown",
   "metadata": {},
   "source": [
    "# Exercises\n",
    "\n",
    "You are curious how much slower traffic moves when traffic volume is high. This involves a few steps.\n",
    "\n",
    "### 1) Find the data\n",
    "Before you can access the data, you need to find the table name with the data.\n",
    "\n",
    "*Hint*: Tab completion is helpful whenever you can't remember a command. Type `client.` and then hit the tab key. Don't forget the period before hitting tab."
   ]
  },
  {
   "cell_type": "code",
   "execution_count": null,
   "metadata": {
    "execution": {
     "iopub.execute_input": "2021-12-03T08:17:58.33639Z",
     "iopub.status.busy": "2021-12-03T08:17:58.336116Z",
     "iopub.status.idle": "2021-12-03T08:17:58.533141Z",
     "shell.execute_reply": "2021-12-03T08:17:58.532226Z",
     "shell.execute_reply.started": "2021-12-03T08:17:58.33636Z"
    }
   },
   "outputs": [],
   "source": [
    "# Your code here to find the table name\n",
    "tables = list(client.list_tables(dataset))\n",
    "for table in tables:  \n",
    "    print(table.table_id)"
   ]
  },
  {
   "cell_type": "code",
   "execution_count": null,
   "metadata": {
    "execution": {
     "iopub.execute_input": "2021-12-03T08:18:09.86644Z",
     "iopub.status.busy": "2021-12-03T08:18:09.866159Z",
     "iopub.status.idle": "2021-12-03T08:18:09.87369Z",
     "shell.execute_reply": "2021-12-03T08:18:09.872888Z",
     "shell.execute_reply.started": "2021-12-03T08:18:09.866412Z"
    }
   },
   "outputs": [],
   "source": [
    "# Write the table name as a string below\n",
    "table_name = 'taxi_trips'\n",
    "\n",
    "# Check your answer\n",
    "q_1.check()"
   ]
  },
  {
   "cell_type": "markdown",
   "metadata": {},
   "source": [
    "For the solution, uncomment the line below."
   ]
  },
  {
   "cell_type": "code",
   "execution_count": null,
   "metadata": {
    "execution": {
     "iopub.execute_input": "2021-12-03T08:18:13.818292Z",
     "iopub.status.busy": "2021-12-03T08:18:13.817406Z",
     "iopub.status.idle": "2021-12-03T08:18:13.821963Z",
     "shell.execute_reply": "2021-12-03T08:18:13.821084Z",
     "shell.execute_reply.started": "2021-12-03T08:18:13.818247Z"
    }
   },
   "outputs": [],
   "source": [
    "#q_1.solution()"
   ]
  },
  {
   "cell_type": "markdown",
   "metadata": {},
   "source": [
    "### 2) Peek at the data\n",
    "\n",
    "Use the next code cell to peek at the top few rows of the data. Inspect the data and see if any issues with data quality are immediately obvious. "
   ]
  },
  {
   "cell_type": "code",
   "execution_count": null,
   "metadata": {
    "execution": {
     "iopub.execute_input": "2021-12-03T08:20:09.576314Z",
     "iopub.status.busy": "2021-12-03T08:20:09.575346Z",
     "iopub.status.idle": "2021-12-03T08:20:10.485899Z",
     "shell.execute_reply": "2021-12-03T08:20:10.485305Z",
     "shell.execute_reply.started": "2021-12-03T08:20:09.576261Z"
    }
   },
   "outputs": [],
   "source": [
    "# Your code here\n",
    "\n",
    "# get the reference to the taxi_trips table\n",
    "taxi_ref = dataset_ref.table('taxi_trips')\n",
    "\n",
    "# API request - fetch the table\n",
    "taxi_trips = client.get_table(taxi_ref)\n",
    "\n",
    "# preview the first 5 lines of the taxi_trips table\n",
    "client.list_rows(taxi_trips,max_results=5).to_dataframe()"
   ]
  },
  {
   "cell_type": "markdown",
   "metadata": {},
   "source": [
    "- LOTS of NaN across latlon columns\n",
    "- trip seconds = 0 ? how"
   ]
  },
  {
   "cell_type": "markdown",
   "metadata": {},
   "source": [
    "After deciding whether you see any important issues, run the code cell below."
   ]
  },
  {
   "cell_type": "code",
   "execution_count": null,
   "metadata": {
    "execution": {
     "iopub.execute_input": "2021-12-03T08:21:20.260595Z",
     "iopub.status.busy": "2021-12-03T08:21:20.260252Z",
     "iopub.status.idle": "2021-12-03T08:21:20.268444Z",
     "shell.execute_reply": "2021-12-03T08:21:20.267851Z",
     "shell.execute_reply.started": "2021-12-03T08:21:20.260558Z"
    }
   },
   "outputs": [],
   "source": [
    "# Check your answer (Run this code cell to receive credit!)\n",
    "q_2.solution()"
   ]
  },
  {
   "cell_type": "markdown",
   "metadata": {},
   "source": [
    "### 3) Determine when this data is from\n",
    "\n",
    "If the data is sufficiently old, we might be careful before assuming the data is still relevant to traffic patterns today. Write a query that counts the number of trips in each year.  \n",
    "\n",
    "Your results should have two columns:\n",
    "- `year` - the year of the trips\n",
    "- `num_trips` - the number of trips in that year\n",
    "\n",
    "Hints:\n",
    "- When using **GROUP BY** and **ORDER BY**, you should refer to the columns by the alias `year` that you set at the top of the **SELECT** query.\n",
    "- The SQL code to **SELECT** the year from `trip_start_timestamp` is <code>SELECT EXTRACT(YEAR FROM trip_start_timestamp)</code>\n",
    "- The **FROM** field can be a little tricky until you are used to it.  The format is:\n",
    "    1. A backick (the symbol \\`).\n",
    "    2. The project name. In this case it is `bigquery-public-data`.\n",
    "    3. A period.\n",
    "    4. The dataset name. In this case, it is `chicago_taxi_trips`.\n",
    "    5. A period.\n",
    "    6. The table name. You used this as your answer in **1) Find the data**.\n",
    "    7. A backtick (the symbol \\`)."
   ]
  },
  {
   "cell_type": "code",
   "execution_count": null,
   "metadata": {
    "execution": {
     "iopub.execute_input": "2021-12-03T08:30:19.905317Z",
     "iopub.status.busy": "2021-12-03T08:30:19.904562Z",
     "iopub.status.idle": "2021-12-03T08:30:22.933709Z",
     "shell.execute_reply": "2021-12-03T08:30:22.932785Z",
     "shell.execute_reply.started": "2021-12-03T08:30:19.905266Z"
    }
   },
   "outputs": [],
   "source": [
    "# Your code goes here\n",
    "rides_per_year_query = \"\"\"\n",
    "                     SELECT EXTRACT(YEAR FROM trip_start_timestamp) AS year, \n",
    "                     COUNT(1) AS num_trips\n",
    "                     FROM `bigquery-public-data.chicago_taxi_trips.taxi_trips`\n",
    "                     GROUP BY year\n",
    "                     ORDER BY year\n",
    "\"\"\"\n",
    "\n",
    "# Set up the query (cancel the query if it would use too much of \n",
    "# your quota)\n",
    "safe_config = bigquery.QueryJobConfig(maximum_bytes_billed=10**10)\n",
    "rides_per_year_query_job = client.query(rides_per_year_query,job_config=safe_config)\n",
    "\n",
    "# API request - run the query, and return a pandas DataFrame\n",
    "rides_per_year_result = rides_per_year_query_job.to_dataframe() \n",
    "\n",
    "# View results\n",
    "print(rides_per_year_result)\n",
    "\n",
    "# Check your answer\n",
    "q_3.check()"
   ]
  },
  {
   "cell_type": "markdown",
   "metadata": {},
   "source": [
    "For a hint or the solution, uncomment the appropriate line below."
   ]
  },
  {
   "cell_type": "code",
   "execution_count": null,
   "metadata": {
    "execution": {
     "iopub.execute_input": "2021-12-03T08:30:42.021192Z",
     "iopub.status.busy": "2021-12-03T08:30:42.020332Z",
     "iopub.status.idle": "2021-12-03T08:30:42.024594Z",
     "shell.execute_reply": "2021-12-03T08:30:42.023898Z",
     "shell.execute_reply.started": "2021-12-03T08:30:42.021152Z"
    }
   },
   "outputs": [],
   "source": [
    "#q_3.hint()\n",
    "#q_3.solution()"
   ]
  },
  {
   "cell_type": "markdown",
   "metadata": {},
   "source": [
    "### 4) Dive slightly deeper\n",
    "\n",
    "You'd like to take a closer look at rides from 2017.  Copy the query you used above in `rides_per_year_query` into the cell below for `rides_per_month_query`.  Then modify it in two ways:\n",
    "1. Use a **WHERE** clause to limit the query to data from 2017.\n",
    "2. Modify the query to extract the month rather than the year."
   ]
  },
  {
   "cell_type": "code",
   "execution_count": null,
   "metadata": {
    "execution": {
     "iopub.execute_input": "2021-12-03T08:35:54.944022Z",
     "iopub.status.busy": "2021-12-03T08:35:54.943709Z",
     "iopub.status.idle": "2021-12-03T08:35:57.217689Z",
     "shell.execute_reply": "2021-12-03T08:35:57.216802Z",
     "shell.execute_reply.started": "2021-12-03T08:35:54.943987Z"
    }
   },
   "outputs": [],
   "source": [
    "# Your code goes here\n",
    "rides_per_month_query = \"\"\"\n",
    "                     SELECT EXTRACT(MONTH FROM trip_start_timestamp) AS month, \n",
    "                     COUNT(1) AS num_trips\n",
    "                     FROM `bigquery-public-data.chicago_taxi_trips.taxi_trips`\n",
    "                     WHERE EXTRACT(YEAR FROM trip_start_timestamp) = 2017\n",
    "                     GROUP BY month\n",
    "                     ORDER BY month\n",
    "\"\"\"\n",
    "\n",
    "# Set up the query\n",
    "safe_config = bigquery.QueryJobConfig(maximum_bytes_billed=10**10)\n",
    "rides_per_month_query_job = client.query(rides_per_month_query,safe_config) # Your code goes here\n",
    "\n",
    "# API request - run the query, and return a pandas DataFrame\n",
    "rides_per_month_result = rides_per_month_query_job.to_dataframe() # Your code goes here\n",
    "\n",
    "# View results\n",
    "print(rides_per_month_result)\n",
    "\n",
    "# Check your answer\n",
    "q_4.check()"
   ]
  },
  {
   "cell_type": "markdown",
   "metadata": {},
   "source": [
    "For a hint or the solution, uncomment the appropriate line below."
   ]
  },
  {
   "cell_type": "code",
   "execution_count": null,
   "metadata": {
    "execution": {
     "iopub.execute_input": "2021-12-03T08:36:08.822783Z",
     "iopub.status.busy": "2021-12-03T08:36:08.822523Z",
     "iopub.status.idle": "2021-12-03T08:36:08.826194Z",
     "shell.execute_reply": "2021-12-03T08:36:08.825319Z",
     "shell.execute_reply.started": "2021-12-03T08:36:08.822753Z"
    }
   },
   "outputs": [],
   "source": [
    "#q_4.hint()\n",
    "#q_4.solution()"
   ]
  },
  {
   "cell_type": "markdown",
   "metadata": {},
   "source": [
    "### 5) Write the query\n",
    "\n",
    "It's time to step up the sophistication of your queries.  Write a query that shows, for each hour of the day in the dataset, the corresponding number of trips and average speed.\n",
    "\n",
    "Your results should have three columns:\n",
    "- `hour_of_day` - sort by this column, which holds the result of extracting the hour from `trip_start_timestamp`.\n",
    "- `num_trips` - the count of the total number of trips in each hour of the day (e.g. how many trips were started between 6AM and 7AM, independent of which day it occurred on).\n",
    "- `avg_mph` - the average speed, measured in miles per hour, for trips that started in that hour of the day.  Average speed in miles per hour is calculated as `3600 * SUM(trip_miles) / SUM(trip_seconds)`. (The value 3600 is used to convert from seconds to hours.)\n",
    "\n",
    "Restrict your query to data meeting the following criteria:\n",
    "- a `trip_start_timestamp` between **2017-01-01** and **2017-07-01**\n",
    "- `trip_seconds` > 0 and `trip_miles` > 0\n",
    "\n",
    "You will use a common table expression (CTE) to select just the relevant rides.  Because this dataset is very big, this CTE should select only the columns you'll need to create the final output (though you won't actually create those in the CTE -- instead you'll create those in the later **SELECT** statement below the CTE).\n",
    "\n",
    "This is a much harder query than anything you've written so far.  Good luck!"
   ]
  },
  {
   "cell_type": "code",
   "execution_count": null,
   "metadata": {
    "execution": {
     "iopub.execute_input": "2021-12-03T08:43:40.56542Z",
     "iopub.status.busy": "2021-12-03T08:43:40.564602Z",
     "iopub.status.idle": "2021-12-03T08:43:43.045389Z",
     "shell.execute_reply": "2021-12-03T08:43:43.044602Z",
     "shell.execute_reply.started": "2021-12-03T08:43:40.565377Z"
    }
   },
   "outputs": [],
   "source": [
    "# Your code goes here\n",
    "speeds_query = \"\"\"\n",
    "               WITH RelevantRides AS\n",
    "               (\n",
    "                   SELECT EXTRACT(HOUR FROM trip_start_timestamp) AS hour_of_day,\n",
    "                   trip_miles,trip_seconds\n",
    "                   FROM `bigquery-public-data.chicago_taxi_trips.taxi_trips`\n",
    "                   WHERE trip_start_timestamp > '2017-01-01' AND\n",
    "                   trip_start_timestamp < '2017-07-01' AND\n",
    "                   trip_seconds > 0 AND trip_miles > 0\n",
    "               )\n",
    "               SELECT hour_of_day,\n",
    "                      COUNT(1) as num_trips,\n",
    "                      3600 * SUM(trip_miles) / SUM(trip_seconds) as avg_mph\n",
    "               FROM RelevantRides\n",
    "               GROUP BY hour_of_day\n",
    "               ORDER BY hour_of_day\n",
    "               \"\"\"\n",
    "\n",
    "# Set up the query\n",
    "safe_config = bigquery.QueryJobConfig(maximum_bytes_billed=10**10)\n",
    "speeds_query_job = client.query(speeds_query,safe_config) # Your code here\n",
    "\n",
    "# API request - run the query, and return a pandas DataFrame\n",
    "speeds_result =  speeds_query_job.to_dataframe()# Your code here\n",
    "\n",
    "# View results\n",
    "print(speeds_result)\n",
    "\n",
    "# Check your answer\n",
    "q_5.check()"
   ]
  },
  {
   "cell_type": "markdown",
   "metadata": {},
   "source": [
    "For the solution, uncomment the appropriate line below."
   ]
  },
  {
   "cell_type": "code",
   "execution_count": null,
   "metadata": {
    "execution": {
     "iopub.execute_input": "2021-12-03T08:41:32.341039Z",
     "iopub.status.busy": "2021-12-03T08:41:32.340287Z",
     "iopub.status.idle": "2021-12-03T08:41:32.349103Z",
     "shell.execute_reply": "2021-12-03T08:41:32.348152Z",
     "shell.execute_reply.started": "2021-12-03T08:41:32.340994Z"
    }
   },
   "outputs": [],
   "source": [
    "q_5.solution()"
   ]
  },
  {
   "cell_type": "markdown",
   "metadata": {},
   "source": [
    "That's a hard query. If you made good progress towards the solution, congratulations!"
   ]
  },
  {
   "cell_type": "markdown",
   "metadata": {},
   "source": [
    "# Keep going\n",
    "\n",
    "You can write very complex queries now with a single data source. But nothing expands the horizons of SQL as much as the ability to combine or **JOIN** tables.\n",
    "\n",
    "**[Click here](https://www.kaggle.com/dansbecker/joining-data)** to start the last lesson in the Intro to SQL micro-course."
   ]
  },
  {
   "cell_type": "markdown",
   "metadata": {},
   "source": [
    "---\n",
    "\n",
    "\n",
    "\n",
    "\n",
    "*Have questions or comments? Visit the [course discussion forum](https://www.kaggle.com/learn/intro-to-sql/discussion) to chat with other learners.*"
   ]
  }
 ],
 "metadata": {
  "kernelspec": {
   "display_name": "Python 3",
   "language": "python",
   "name": "python3"
  },
  "language_info": {
   "codemirror_mode": {
    "name": "ipython",
    "version": 3
   },
   "file_extension": ".py",
   "mimetype": "text/x-python",
   "name": "python",
   "nbconvert_exporter": "python",
   "pygments_lexer": "ipython3",
   "version": "3.6.4"
  }
 },
 "nbformat": 4,
 "nbformat_minor": 4
}
