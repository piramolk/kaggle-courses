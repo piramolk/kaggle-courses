{
 "cells": [
  {
   "cell_type": "markdown",
   "metadata": {},
   "source": [
    "**This notebook is an exercise in the [SQL](https://www.kaggle.com/learn/intro-to-sql) course.  You can reference the tutorial at [this link](https://www.kaggle.com/dansbecker/group-by-having-count).**\n",
    "\n",
    "---\n"
   ]
  },
  {
   "cell_type": "markdown",
   "metadata": {},
   "source": [
    "# Introduction\n",
    "\n",
    "Queries with **GROUP BY** can be powerful. There are many small things that can trip you up (like the order of the clauses), but it will start to feel natural once you've done it a few times. Here, you'll write queries using **GROUP BY** to answer questions from the Hacker News dataset.\n",
    "\n",
    "Before you get started, run the following cell to set everything up:"
   ]
  },
  {
   "cell_type": "code",
   "execution_count": null,
   "metadata": {
    "execution": {
     "iopub.execute_input": "2021-12-02T12:08:45.795321Z",
     "iopub.status.busy": "2021-12-02T12:08:45.794578Z",
     "iopub.status.idle": "2021-12-02T12:08:49.322245Z",
     "shell.execute_reply": "2021-12-02T12:08:49.321646Z",
     "shell.execute_reply.started": "2021-12-02T12:08:45.795205Z"
    }
   },
   "outputs": [],
   "source": [
    "# Set up feedback system\n",
    "from learntools.core import binder\n",
    "binder.bind(globals())\n",
    "from learntools.sql.ex3 import *\n",
    "print(\"Setup Complete\")"
   ]
  },
  {
   "cell_type": "markdown",
   "metadata": {},
   "source": [
    "The code cell below fetches the `comments` table from the `hacker_news` dataset.  We also preview the first five rows of the table."
   ]
  },
  {
   "cell_type": "code",
   "execution_count": null,
   "metadata": {
    "execution": {
     "iopub.execute_input": "2021-12-02T12:08:49.323756Z",
     "iopub.status.busy": "2021-12-02T12:08:49.32355Z",
     "iopub.status.idle": "2021-12-02T12:08:50.751029Z",
     "shell.execute_reply": "2021-12-02T12:08:50.750297Z",
     "shell.execute_reply.started": "2021-12-02T12:08:49.32373Z"
    }
   },
   "outputs": [],
   "source": [
    "from google.cloud import bigquery\n",
    "\n",
    "# Create a \"Client\" object\n",
    "client = bigquery.Client()\n",
    "\n",
    "# Construct a reference to the \"hacker_news\" dataset\n",
    "dataset_ref = client.dataset(\"hacker_news\", project=\"bigquery-public-data\")\n",
    "\n",
    "# API request - fetch the dataset\n",
    "dataset = client.get_dataset(dataset_ref)\n",
    "\n",
    "# Construct a reference to the \"comments\" table\n",
    "table_ref = dataset_ref.table(\"comments\")\n",
    "\n",
    "# API request - fetch the table\n",
    "table = client.get_table(table_ref)\n",
    "\n",
    "# Preview the first five lines of the \"comments\" table\n",
    "client.list_rows(table, max_results=5).to_dataframe()"
   ]
  },
  {
   "cell_type": "markdown",
   "metadata": {},
   "source": [
    "# Exercises\n",
    "\n",
    "### 1) Prolific commenters\n",
    "\n",
    "Hacker News would like to send awards to everyone who has written more than 10,000 posts. Write a query that returns all authors with more than 10,000 posts as well as their post counts. Call the column with post counts `NumPosts`.\n",
    "\n",
    "In case sample query is helpful, here is a query you saw in the tutorial to answer a similar question:\n",
    "```\n",
    "query = \"\"\"\n",
    "        SELECT parent, COUNT(1) AS NumPosts\n",
    "        FROM `bigquery-public-data.hacker_news.comments`\n",
    "        GROUP BY parent\n",
    "        HAVING COUNT(1) > 10\n",
    "        \"\"\"\n",
    "```"
   ]
  },
  {
   "cell_type": "code",
   "execution_count": null,
   "metadata": {
    "execution": {
     "iopub.execute_input": "2021-12-02T12:10:20.87987Z",
     "iopub.status.busy": "2021-12-02T12:10:20.879475Z",
     "iopub.status.idle": "2021-12-02T12:10:22.198198Z",
     "shell.execute_reply": "2021-12-02T12:10:22.197374Z",
     "shell.execute_reply.started": "2021-12-02T12:10:20.879838Z"
    }
   },
   "outputs": [],
   "source": [
    "# Query to select prolific commenters and post counts\n",
    "prolific_commenters_query = \"\"\"\n",
    "                            SELECT author, COUNT(1) AS NumPosts\n",
    "                            FROM `bigquery-public-data.hacker_news.comments`\n",
    "                            GROUP BY author\n",
    "                            HAVING COUNT(1) > 10000\n",
    "                            \"\"\"\n",
    "\n",
    "# Set up the query (cancel the query if it would use too much of \n",
    "# your quota, with the limit set to 1 GB)\n",
    "safe_config = bigquery.QueryJobConfig(maximum_bytes_billed=10**10)\n",
    "query_job = client.query(prolific_commenters_query, job_config=safe_config)\n",
    "\n",
    "# API request - run the query, and return a pandas DataFrame\n",
    "prolific_commenters = query_job.to_dataframe()\n",
    "\n",
    "# View top few rows of results\n",
    "print(prolific_commenters.head())\n",
    "\n",
    "# Check your answer\n",
    "q_1.check()"
   ]
  },
  {
   "cell_type": "markdown",
   "metadata": {},
   "source": [
    "For the solution, uncomment the line below."
   ]
  },
  {
   "cell_type": "code",
   "execution_count": null,
   "metadata": {
    "execution": {
     "iopub.execute_input": "2021-12-02T12:10:32.995616Z",
     "iopub.status.busy": "2021-12-02T12:10:32.995352Z",
     "iopub.status.idle": "2021-12-02T12:10:32.998744Z",
     "shell.execute_reply": "2021-12-02T12:10:32.998135Z",
     "shell.execute_reply.started": "2021-12-02T12:10:32.995588Z"
    }
   },
   "outputs": [],
   "source": [
    "#q_1.solution()"
   ]
  },
  {
   "cell_type": "markdown",
   "metadata": {},
   "source": [
    "### 2) Deleted comments\n",
    "\n",
    "How many comments have been deleted? (If a comment was deleted, the `deleted` column in the comments table will have the value `True`.)"
   ]
  },
  {
   "cell_type": "code",
   "execution_count": null,
   "metadata": {
    "execution": {
     "iopub.execute_input": "2021-12-02T12:10:56.569407Z",
     "iopub.status.busy": "2021-12-02T12:10:56.56909Z",
     "iopub.status.idle": "2021-12-02T12:10:56.574432Z",
     "shell.execute_reply": "2021-12-02T12:10:56.573944Z",
     "shell.execute_reply.started": "2021-12-02T12:10:56.56937Z"
    }
   },
   "outputs": [],
   "source": [
    "# Write your query here and figure out the answer\n",
    "table.schema"
   ]
  },
  {
   "cell_type": "code",
   "execution_count": null,
   "metadata": {
    "execution": {
     "iopub.execute_input": "2021-12-02T12:21:11.44214Z",
     "iopub.status.busy": "2021-12-02T12:21:11.44146Z",
     "iopub.status.idle": "2021-12-02T12:21:12.845995Z",
     "shell.execute_reply": "2021-12-02T12:21:12.845027Z",
     "shell.execute_reply.started": "2021-12-02T12:21:11.442078Z"
    }
   },
   "outputs": [],
   "source": [
    "deleted_comments_query = \"\"\"\n",
    "                            SELECT COUNT(1) as num_deleted_posts\n",
    "                            FROM `bigquery-public-data.hacker_news.comments`\n",
    "                            WHERE deleted = True\n",
    "                        \"\"\"\n",
    "query_comments = client.query(deleted_comments_query, job_config=safe_config)\n",
    "\n",
    "# API request - run the query, and return a pandas DataFrame\n",
    "deleted_comments = query_comments.to_dataframe()\n",
    "deleted_comments"
   ]
  },
  {
   "cell_type": "code",
   "execution_count": null,
   "metadata": {
    "execution": {
     "iopub.execute_input": "2021-12-02T12:21:48.766081Z",
     "iopub.status.busy": "2021-12-02T12:21:48.765609Z",
     "iopub.status.idle": "2021-12-02T12:21:48.772841Z",
     "shell.execute_reply": "2021-12-02T12:21:48.772046Z",
     "shell.execute_reply.started": "2021-12-02T12:21:48.76603Z"
    }
   },
   "outputs": [],
   "source": [
    "deleted_comments['num_deleted_posts'][0]"
   ]
  },
  {
   "cell_type": "code",
   "execution_count": null,
   "metadata": {
    "execution": {
     "iopub.execute_input": "2021-12-02T12:21:53.617784Z",
     "iopub.status.busy": "2021-12-02T12:21:53.617099Z",
     "iopub.status.idle": "2021-12-02T12:21:53.627079Z",
     "shell.execute_reply": "2021-12-02T12:21:53.626229Z",
     "shell.execute_reply.started": "2021-12-02T12:21:53.617723Z"
    }
   },
   "outputs": [],
   "source": [
    "num_deleted_posts = deleted_comments['num_deleted_posts'][0]\n",
    " # Put your answer here\n",
    "\n",
    "# Check your answer\n",
    "q_2.check()"
   ]
  },
  {
   "cell_type": "markdown",
   "metadata": {},
   "source": [
    "For the solution, uncomment the line below."
   ]
  },
  {
   "cell_type": "code",
   "execution_count": null,
   "metadata": {
    "execution": {
     "iopub.execute_input": "2021-12-02T12:20:23.572738Z",
     "iopub.status.busy": "2021-12-02T12:20:23.572451Z",
     "iopub.status.idle": "2021-12-02T12:20:23.58043Z",
     "shell.execute_reply": "2021-12-02T12:20:23.57994Z",
     "shell.execute_reply.started": "2021-12-02T12:20:23.572701Z"
    }
   },
   "outputs": [],
   "source": [
    "q_2.solution()"
   ]
  },
  {
   "cell_type": "markdown",
   "metadata": {},
   "source": [
    "# Keep Going\n",
    "**[Click here](https://www.kaggle.com/dansbecker/order-by)** to move on and learn about the **ORDER BY** clause."
   ]
  },
  {
   "cell_type": "markdown",
   "metadata": {},
   "source": [
    "---\n",
    "\n",
    "\n",
    "\n",
    "\n",
    "*Have questions or comments? Visit the [course discussion forum](https://www.kaggle.com/learn/intro-to-sql/discussion) to chat with other learners.*"
   ]
  }
 ],
 "metadata": {
  "kernelspec": {
   "display_name": "Python 3",
   "language": "python",
   "name": "python3"
  },
  "language_info": {
   "codemirror_mode": {
    "name": "ipython",
    "version": 3
   },
   "file_extension": ".py",
   "mimetype": "text/x-python",
   "name": "python",
   "nbconvert_exporter": "python",
   "pygments_lexer": "ipython3",
   "version": "3.6.4"
  }
 },
 "nbformat": 4,
 "nbformat_minor": 4
}
