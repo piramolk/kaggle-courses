{
 "cells": [
  {
   "cell_type": "markdown",
   "metadata": {},
   "source": [
    "**This notebook is an exercise in the [SQL](https://www.kaggle.com/learn/intro-to-sql) course.  You can reference the tutorial at [this link](https://www.kaggle.com/dansbecker/getting-started-with-sql-and-bigquery).**\n",
    "\n",
    "---\n"
   ]
  },
  {
   "cell_type": "markdown",
   "metadata": {},
   "source": [
    "# Introduction\n",
    "\n",
    "The first test of your new data exploration skills uses data describing crime in the city of Chicago.\n",
    "\n",
    "Before you get started, run the following cell. It sets up the automated feedback system to review your answers."
   ]
  },
  {
   "cell_type": "code",
   "execution_count": null,
   "metadata": {
    "execution": {
     "iopub.execute_input": "2021-12-02T09:21:45.725937Z",
     "iopub.status.busy": "2021-12-02T09:21:45.725084Z",
     "iopub.status.idle": "2021-12-02T09:21:46.594294Z",
     "shell.execute_reply": "2021-12-02T09:21:46.593404Z",
     "shell.execute_reply.started": "2021-12-02T09:21:45.725826Z"
    }
   },
   "outputs": [],
   "source": [
    "# Set up feedack system\n",
    "from learntools.core import binder\n",
    "binder.bind(globals())\n",
    "from learntools.sql.ex1 import *\n",
    "print(\"Setup Complete\")"
   ]
  },
  {
   "cell_type": "markdown",
   "metadata": {},
   "source": [
    "Use the next code cell to fetch the dataset."
   ]
  },
  {
   "cell_type": "code",
   "execution_count": null,
   "metadata": {
    "execution": {
     "iopub.execute_input": "2021-12-02T09:21:46.596353Z",
     "iopub.status.busy": "2021-12-02T09:21:46.596139Z",
     "iopub.status.idle": "2021-12-02T09:21:46.883712Z",
     "shell.execute_reply": "2021-12-02T09:21:46.882892Z",
     "shell.execute_reply.started": "2021-12-02T09:21:46.596327Z"
    }
   },
   "outputs": [],
   "source": [
    "from google.cloud import bigquery\n",
    "\n",
    "# Create a \"Client\" object\n",
    "client = bigquery.Client()\n",
    "\n",
    "# Construct a reference to the \"chicago_crime\" dataset\n",
    "dataset_ref = client.dataset(\"chicago_crime\", project=\"bigquery-public-data\")\n",
    "\n",
    "# API request - fetch the dataset\n",
    "dataset = client.get_dataset(dataset_ref)"
   ]
  },
  {
   "cell_type": "markdown",
   "metadata": {},
   "source": [
    "# Exercises\n",
    "\n",
    "### 1) Count tables in the dataset\n",
    "\n",
    "How many tables are in the Chicago Crime dataset?"
   ]
  },
  {
   "cell_type": "code",
   "execution_count": null,
   "metadata": {
    "execution": {
     "iopub.execute_input": "2021-12-02T09:22:51.448892Z",
     "iopub.status.busy": "2021-12-02T09:22:51.448336Z",
     "iopub.status.idle": "2021-12-02T09:22:51.730475Z",
     "shell.execute_reply": "2021-12-02T09:22:51.729894Z",
     "shell.execute_reply.started": "2021-12-02T09:22:51.448834Z"
    }
   },
   "outputs": [],
   "source": [
    "# Write the code you need here to figure out the answer\n",
    "tables = list(client.list_tables(dataset))\n",
    "len(tables)"
   ]
  },
  {
   "cell_type": "code",
   "execution_count": null,
   "metadata": {
    "execution": {
     "iopub.execute_input": "2021-12-02T09:22:59.489341Z",
     "iopub.status.busy": "2021-12-02T09:22:59.489064Z",
     "iopub.status.idle": "2021-12-02T09:22:59.498188Z",
     "shell.execute_reply": "2021-12-02T09:22:59.497224Z",
     "shell.execute_reply.started": "2021-12-02T09:22:59.4893Z"
    }
   },
   "outputs": [],
   "source": [
    "num_tables = len(tables)  # Store the answer as num_tables and then run this cell\n",
    "\n",
    "# Check your answer\n",
    "q_1.check()"
   ]
  },
  {
   "cell_type": "markdown",
   "metadata": {},
   "source": [
    "For a hint or the solution, uncomment the appropriate line below."
   ]
  },
  {
   "cell_type": "code",
   "execution_count": null,
   "metadata": {
    "execution": {
     "iopub.execute_input": "2021-12-02T09:23:03.09325Z",
     "iopub.status.busy": "2021-12-02T09:23:03.092657Z",
     "iopub.status.idle": "2021-12-02T09:23:03.101386Z",
     "shell.execute_reply": "2021-12-02T09:23:03.100583Z",
     "shell.execute_reply.started": "2021-12-02T09:23:03.093176Z"
    }
   },
   "outputs": [],
   "source": [
    "#q_1.hint()\n",
    "q_1.solution()"
   ]
  },
  {
   "cell_type": "markdown",
   "metadata": {},
   "source": [
    "### 2) Explore the table schema\n",
    "\n",
    "How many columns in the `crime` table have `TIMESTAMP` data?"
   ]
  },
  {
   "cell_type": "code",
   "execution_count": null,
   "metadata": {
    "execution": {
     "iopub.execute_input": "2021-12-02T09:27:34.542764Z",
     "iopub.status.busy": "2021-12-02T09:27:34.541695Z",
     "iopub.status.idle": "2021-12-02T09:27:34.54901Z",
     "shell.execute_reply": "2021-12-02T09:27:34.548134Z",
     "shell.execute_reply.started": "2021-12-02T09:27:34.542702Z"
    }
   },
   "outputs": [],
   "source": [
    "# Write the code to figure out the answer\n",
    "for table in tables:  \n",
    "    print(table.table_id`)"
   ]
  },
  {
   "cell_type": "code",
   "execution_count": null,
   "metadata": {
    "execution": {
     "iopub.execute_input": "2021-12-02T09:28:52.919441Z",
     "iopub.status.busy": "2021-12-02T09:28:52.919174Z",
     "iopub.status.idle": "2021-12-02T09:28:53.167207Z",
     "shell.execute_reply": "2021-12-02T09:28:53.166524Z",
     "shell.execute_reply.started": "2021-12-02T09:28:52.919413Z"
    }
   },
   "outputs": [],
   "source": [
    "# construct reference to'crime' table\n",
    "crime_ref = dataset_ref.table('crime')\n",
    "\n",
    "# API request- get the table\n",
    "crime_table = client.get_table(crime_ref)\n",
    "crime_table.schema"
   ]
  },
  {
   "cell_type": "code",
   "execution_count": null,
   "metadata": {
    "execution": {
     "iopub.execute_input": "2021-12-02T09:30:48.634958Z",
     "iopub.status.busy": "2021-12-02T09:30:48.634426Z",
     "iopub.status.idle": "2021-12-02T09:30:48.638725Z",
     "shell.execute_reply": "2021-12-02T09:30:48.637925Z",
     "shell.execute_reply.started": "2021-12-02T09:30:48.634909Z"
    }
   },
   "outputs": [],
   "source": [
    "import pandas as pd"
   ]
  },
  {
   "cell_type": "code",
   "execution_count": null,
   "metadata": {
    "execution": {
     "iopub.execute_input": "2021-12-02T09:33:15.982316Z",
     "iopub.status.busy": "2021-12-02T09:33:15.981432Z",
     "iopub.status.idle": "2021-12-02T09:33:15.987216Z",
     "shell.execute_reply": "2021-12-02T09:33:15.986562Z",
     "shell.execute_reply.started": "2021-12-02T09:33:15.982277Z"
    }
   },
   "outputs": [],
   "source": [
    "i=0\n",
    "for schema in crime_table.schema:\n",
    "    if(schema.field_type=='TIMESTAMP'):\n",
    "        i+=1\n",
    "print(i)"
   ]
  },
  {
   "cell_type": "markdown",
   "metadata": {},
   "source": []
  },
  {
   "cell_type": "code",
   "execution_count": null,
   "metadata": {
    "execution": {
     "iopub.execute_input": "2021-12-02T09:33:34.46278Z",
     "iopub.status.busy": "2021-12-02T09:33:34.462495Z",
     "iopub.status.idle": "2021-12-02T09:33:34.470544Z",
     "shell.execute_reply": "2021-12-02T09:33:34.469769Z",
     "shell.execute_reply.started": "2021-12-02T09:33:34.46275Z"
    }
   },
   "outputs": [],
   "source": [
    "num_timestamp_fields = 2 # Put your answer here\n",
    "\n",
    "# Check your answer\n",
    "q_2.check()"
   ]
  },
  {
   "cell_type": "markdown",
   "metadata": {},
   "source": [
    "For a hint or the solution, uncomment the appropriate line below."
   ]
  },
  {
   "cell_type": "code",
   "execution_count": null,
   "metadata": {
    "execution": {
     "iopub.execute_input": "2021-12-02T09:33:37.764259Z",
     "iopub.status.busy": "2021-12-02T09:33:37.763458Z",
     "iopub.status.idle": "2021-12-02T09:33:37.773328Z",
     "shell.execute_reply": "2021-12-02T09:33:37.772711Z",
     "shell.execute_reply.started": "2021-12-02T09:33:37.764209Z"
    }
   },
   "outputs": [],
   "source": [
    "q_2.hint()\n",
    "q_2.solution()"
   ]
  },
  {
   "cell_type": "markdown",
   "metadata": {},
   "source": [
    "### 3) Create a crime map\n",
    "\n",
    "If you wanted to create a map with a dot at the location of each crime, what are the names of the two fields you likely need to pull out of the `crime` table to plot the crimes on a map?"
   ]
  },
  {
   "cell_type": "code",
   "execution_count": null,
   "metadata": {
    "execution": {
     "iopub.execute_input": "2021-12-02T09:34:22.700902Z",
     "iopub.status.busy": "2021-12-02T09:34:22.700588Z",
     "iopub.status.idle": "2021-12-02T09:34:22.71639Z",
     "shell.execute_reply": "2021-12-02T09:34:22.7153Z",
     "shell.execute_reply.started": "2021-12-02T09:34:22.700871Z"
    }
   },
   "outputs": [],
   "source": [
    "# Write the code here to explore the data so you can find the answer\n",
    "crime_table"
   ]
  },
  {
   "cell_type": "code",
   "execution_count": null,
   "metadata": {
    "execution": {
     "iopub.execute_input": "2021-12-02T09:35:04.692995Z",
     "iopub.status.busy": "2021-12-02T09:35:04.692471Z",
     "iopub.status.idle": "2021-12-02T09:35:04.700576Z",
     "shell.execute_reply": "2021-12-02T09:35:04.699861Z",
     "shell.execute_reply.started": "2021-12-02T09:35:04.692959Z"
    }
   },
   "outputs": [],
   "source": [
    "fields_for_plotting = ['latitude', 'longitude'] # Put your answers here\n",
    "\n",
    "# Check your answer\n",
    "q_3.check()"
   ]
  },
  {
   "cell_type": "markdown",
   "metadata": {},
   "source": [
    "For a hint or the solution, uncomment the appropriate line below."
   ]
  },
  {
   "cell_type": "code",
   "execution_count": null,
   "metadata": {
    "execution": {
     "iopub.execute_input": "2021-12-02T09:35:09.305977Z",
     "iopub.status.busy": "2021-12-02T09:35:09.305376Z",
     "iopub.status.idle": "2021-12-02T09:35:09.314279Z",
     "shell.execute_reply": "2021-12-02T09:35:09.313616Z",
     "shell.execute_reply.started": "2021-12-02T09:35:09.30594Z"
    }
   },
   "outputs": [],
   "source": [
    "#q_3.hint()\n",
    "q_3.solution()"
   ]
  },
  {
   "cell_type": "markdown",
   "metadata": {},
   "source": [
    "Thinking about the question above, there are a few columns that appear to have geographic data. Look at a few values (with the `list_rows()` command) to see if you can determine their relationship.  Two columns will still be hard to interpret. But it should be obvious how the `location` column relates to `latitude` and `longitude`."
   ]
  },
  {
   "cell_type": "code",
   "execution_count": null,
   "metadata": {
    "execution": {
     "iopub.execute_input": "2021-12-02T09:36:34.485578Z",
     "iopub.status.busy": "2021-12-02T09:36:34.48509Z",
     "iopub.status.idle": "2021-12-02T09:36:34.954196Z",
     "shell.execute_reply": "2021-12-02T09:36:34.953344Z",
     "shell.execute_reply.started": "2021-12-02T09:36:34.485516Z"
    }
   },
   "outputs": [],
   "source": [
    "# Scratch space for your code\n",
    "client.list_rows(crime_table,max_results=5).to_dataframe()"
   ]
  },
  {
   "cell_type": "markdown",
   "metadata": {},
   "source": [
    "> Location is just a tuple of lat,lon"
   ]
  },
  {
   "cell_type": "markdown",
   "metadata": {},
   "source": [
    "# Keep going\n",
    "\n",
    "You've looked at the schema, but you haven't yet done anything exciting with the data itself. Things get more interesting when you get to the data, so keep going to **[write your first SQL query](https://www.kaggle.com/dansbecker/select-from-where).**"
   ]
  },
  {
   "cell_type": "markdown",
   "metadata": {},
   "source": [
    "---\n",
    "\n",
    "\n",
    "\n",
    "\n",
    "*Have questions or comments? Visit the [course discussion forum](https://www.kaggle.com/learn/intro-to-sql/discussion) to chat with other learners.*"
   ]
  }
 ],
 "metadata": {
  "kernelspec": {
   "display_name": "Python 3",
   "language": "python",
   "name": "python3"
  },
  "language_info": {
   "codemirror_mode": {
    "name": "ipython",
    "version": 3
   },
   "file_extension": ".py",
   "mimetype": "text/x-python",
   "name": "python",
   "nbconvert_exporter": "python",
   "pygments_lexer": "ipython3",
   "version": "3.6.4"
  }
 },
 "nbformat": 4,
 "nbformat_minor": 4
}
