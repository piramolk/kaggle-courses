{
 "cells": [
  {
   "cell_type": "markdown",
   "metadata": {},
   "source": [
    "**This notebook is an exercise in the [Feature Engineering](https://www.kaggle.com/learn/feature-engineering) course.  You can reference the tutorial at [this link](https://www.kaggle.com/ryanholbrook/mutual-information).**\n",
    "\n",
    "---\n"
   ]
  },
  {
   "cell_type": "markdown",
   "metadata": {},
   "source": [
    "# Introduction #\n",
    "\n",
    "In this exercise you'll identify an initial set of features in the [*Ames*](https://www.kaggle.com/c/house-prices-advanced-regression-techniques/data) dataset to develop using mutual information scores and interaction plots.\n",
    "\n",
    "Run this cell to set everything up!"
   ]
  },
  {
   "cell_type": "code",
   "execution_count": 1,
   "metadata": {
    "execution": {
     "iopub.execute_input": "2021-12-05T11:16:52.858874Z",
     "iopub.status.busy": "2021-12-05T11:16:52.858106Z",
     "iopub.status.idle": "2021-12-05T11:16:54.516336Z",
     "shell.execute_reply": "2021-12-05T11:16:54.515419Z",
     "shell.execute_reply.started": "2021-12-05T11:16:52.858729Z"
    }
   },
   "outputs": [],
   "source": [
    "# Setup feedback system\n",
    "from learntools.core import binder\n",
    "binder.bind(globals())\n",
    "from learntools.feature_engineering_new.ex2 import *\n",
    "\n",
    "import matplotlib.pyplot as plt\n",
    "import numpy as np\n",
    "import pandas as pd\n",
    "import seaborn as sns\n",
    "from sklearn.feature_selection import mutual_info_regression\n",
    "\n",
    "# Set Matplotlib defaults\n",
    "plt.style.use(\"seaborn-whitegrid\")\n",
    "plt.rc(\"figure\", autolayout=True)\n",
    "plt.rc(\n",
    "    \"axes\",\n",
    "    labelweight=\"bold\",\n",
    "    labelsize=\"large\",\n",
    "    titleweight=\"bold\",\n",
    "    titlesize=14,\n",
    "    titlepad=10,\n",
    ")\n",
    "\n",
    "\n",
    "# Load data\n",
    "df = pd.read_csv(\"../input/fe-course-data/ames.csv\")\n",
    "\n",
    "\n",
    "# Utility functions from Tutorial\n",
    "def make_mi_scores(X, y):\n",
    "    X = X.copy()\n",
    "    for colname in X.select_dtypes([\"object\", \"category\"]):\n",
    "        X[colname], _ = X[colname].factorize()\n",
    "    # All discrete features should now have integer dtypes\n",
    "    discrete_features = [pd.api.types.is_integer_dtype(t) for t in X.dtypes]\n",
    "    mi_scores = mutual_info_regression(X, y, discrete_features=discrete_features, random_state=0)\n",
    "    mi_scores = pd.Series(mi_scores, name=\"MI Scores\", index=X.columns)\n",
    "    mi_scores = mi_scores.sort_values(ascending=False)\n",
    "    return mi_scores\n",
    "\n",
    "\n",
    "def plot_mi_scores(scores):\n",
    "    scores = scores.sort_values(ascending=True)\n",
    "    width = np.arange(len(scores))\n",
    "    ticks = list(scores.index)\n",
    "    plt.barh(width, scores)\n",
    "    plt.yticks(width, ticks)\n",
    "    plt.title(\"Mutual Information Scores\")"
   ]
  },
  {
   "cell_type": "markdown",
   "metadata": {},
   "source": [
    "-------------------------------------------------------------------------------\n",
    "\n",
    "To start, let's review the meaning of mutual information by looking at a few features from the *Ames* dataset."
   ]
  },
  {
   "cell_type": "code",
   "execution_count": 2,
   "metadata": {
    "execution": {
     "iopub.execute_input": "2021-12-05T11:16:54.518481Z",
     "iopub.status.busy": "2021-12-05T11:16:54.518134Z",
     "iopub.status.idle": "2021-12-05T11:16:55.394160Z",
     "shell.execute_reply": "2021-12-05T11:16:55.393403Z",
     "shell.execute_reply.started": "2021-12-05T11:16:54.518422Z"
    }
   },
   "outputs": [],
   "source": [
    "features = [\"YearBuilt\", \"MoSold\", \"ScreenPorch\"]\n",
    "sns.relplot(\n",
    "    x=\"value\", y=\"SalePrice\", col=\"variable\", data=df.melt(id_vars=\"SalePrice\", value_vars=features), facet_kws=dict(sharex=False),\n",
    ");"
   ]
  },
  {
   "cell_type": "markdown",
   "metadata": {},
   "source": [
    "# 1) Understand Mutual Information\n",
    "\n",
    "Based on the plots, which feature do you think would have the highest mutual information with `SalePrice`?"
   ]
  },
  {
   "cell_type": "code",
   "execution_count": 3,
   "metadata": {
    "execution": {
     "iopub.execute_input": "2021-12-05T11:17:35.957564Z",
     "iopub.status.busy": "2021-12-05T11:17:35.957188Z",
     "iopub.status.idle": "2021-12-05T11:17:35.966670Z",
     "shell.execute_reply": "2021-12-05T11:17:35.965839Z",
     "shell.execute_reply.started": "2021-12-05T11:17:35.957523Z"
    }
   },
   "outputs": [],
   "source": [
    "# View the solution (Run this cell to receive credit!)\n",
    "q_1.check()"
   ]
  },
  {
   "cell_type": "markdown",
   "metadata": {},
   "source": [
    "-------------------------------------------------------------------------------\n",
    "\n",
    "The *Ames* dataset has seventy-eight features -- a lot to work with all at once! Fortunately, you can identify the features with the most potential.\n",
    "\n",
    "Use the `make_mi_scores` function (introduced in the tutorial) to compute mutual information scores for the *Ames* features:\n"
   ]
  },
  {
   "cell_type": "code",
   "execution_count": 4,
   "metadata": {
    "execution": {
     "iopub.execute_input": "2021-12-05T11:17:58.198648Z",
     "iopub.status.busy": "2021-12-05T11:17:58.197870Z",
     "iopub.status.idle": "2021-12-05T11:18:02.104401Z",
     "shell.execute_reply": "2021-12-05T11:18:02.103463Z",
     "shell.execute_reply.started": "2021-12-05T11:17:58.198595Z"
    }
   },
   "outputs": [],
   "source": [
    "X = df.copy()\n",
    "y = X.pop('SalePrice')\n",
    "\n",
    "mi_scores = make_mi_scores(X, y)"
   ]
  },
  {
   "cell_type": "markdown",
   "metadata": {},
   "source": [
    "Now examine the scores using the functions in this cell. Look especially at top and bottom ranks."
   ]
  },
  {
   "cell_type": "code",
   "execution_count": 5,
   "metadata": {
    "execution": {
     "iopub.execute_input": "2021-12-05T11:18:04.254979Z",
     "iopub.status.busy": "2021-12-05T11:18:04.253654Z",
     "iopub.status.idle": "2021-12-05T11:18:04.707147Z",
     "shell.execute_reply": "2021-12-05T11:18:04.706280Z",
     "shell.execute_reply.started": "2021-12-05T11:18:04.254891Z"
    }
   },
   "outputs": [],
   "source": [
    "print(mi_scores.head(20))\n",
    "plt.figure(dpi=100, figsize=(8, 5))\n",
    "plot_mi_scores(mi_scores.head(20))"
   ]
  },
  {
   "cell_type": "code",
   "execution_count": 6,
   "metadata": {
    "execution": {
     "iopub.execute_input": "2021-12-05T11:18:54.810132Z",
     "iopub.status.busy": "2021-12-05T11:18:54.809852Z",
     "iopub.status.idle": "2021-12-05T11:18:55.240468Z",
     "shell.execute_reply": "2021-12-05T11:18:55.239426Z",
     "shell.execute_reply.started": "2021-12-05T11:18:54.810105Z"
    }
   },
   "outputs": [],
   "source": [
    "print(mi_scores.tail(20))  # uncomment to see bottom 20\n",
    "plt.figure(dpi=100, figsize=(8, 5))\n",
    "plot_mi_scores(mi_scores.tail(20))  # uncomment to see bottom 20"
   ]
  },
  {
   "cell_type": "markdown",
   "metadata": {},
   "source": [
    "# 2) Examine MI Scores\n",
    "\n",
    "Do the scores seem reasonable? Do the high scoring features represent things you'd think most people would value in a home? Do you notice any themes in what they describe? "
   ]
  },
  {
   "cell_type": "code",
   "execution_count": 7,
   "metadata": {
    "execution": {
     "iopub.execute_input": "2021-12-05T11:19:45.842708Z",
     "iopub.status.busy": "2021-12-05T11:19:45.841666Z",
     "iopub.status.idle": "2021-12-05T11:19:45.852554Z",
     "shell.execute_reply": "2021-12-05T11:19:45.851463Z",
     "shell.execute_reply.started": "2021-12-05T11:19:45.842661Z"
    }
   },
   "outputs": [],
   "source": [
    "# View the solution (Run this cell to receive credit!)\n",
    "q_2.check()"
   ]
  },
  {
   "cell_type": "markdown",
   "metadata": {},
   "source": [
    "-------------------------------------------------------------------------------\n",
    "\n",
    "In this step you'll investigate possible interaction effects for the `BldgType` feature. This feature describes the broad structure of the dwelling in five categories:\n",
    "\n",
    "> Bldg Type (Nominal): Type of dwelling\n",
    ">\t\t\n",
    ">       1Fam\tSingle-family Detached\t\n",
    ">       2FmCon\tTwo-family Conversion; originally built as one-family dwelling\n",
    ">       Duplx\tDuplex\n",
    ">       TwnhsE\tTownhouse End Unit\n",
    ">       TwnhsI\tTownhouse Inside Unit\n",
    "\n",
    "The `BldgType` feature didn't get a very high MI score. A plot confirms that the categories in `BldgType` don't do a good job of distinguishing values in `SalePrice` (the distributions look fairly similar, in other words):"
   ]
  },
  {
   "cell_type": "code",
   "execution_count": 8,
   "metadata": {
    "execution": {
     "iopub.execute_input": "2021-12-05T11:20:20.433010Z",
     "iopub.status.busy": "2021-12-05T11:20:20.432633Z",
     "iopub.status.idle": "2021-12-05T11:20:20.799308Z",
     "shell.execute_reply": "2021-12-05T11:20:20.798195Z",
     "shell.execute_reply.started": "2021-12-05T11:20:20.432969Z"
    }
   },
   "outputs": [],
   "source": [
    "sns.catplot(x=\"BldgType\", y=\"SalePrice\", data=df, kind=\"boxen\");"
   ]
  },
  {
   "cell_type": "markdown",
   "metadata": {},
   "source": [
    "Still, the type of a dwelling seems like it should be important information. Investigate whether `BldgType` produces a significant interaction with either of the following:\n",
    "\n",
    "```\n",
    "GrLivArea  # Above ground living area\n",
    "MoSold     # Month sold\n",
    "```\n",
    "\n",
    "Run the following cell twice, the first time with `feature = \"GrLivArea\"` and the next time with `feature=\"MoSold\"`:"
   ]
  },
  {
   "cell_type": "code",
   "execution_count": 9,
   "metadata": {
    "execution": {
     "iopub.execute_input": "2021-12-05T11:20:50.549046Z",
     "iopub.status.busy": "2021-12-05T11:20:50.548711Z",
     "iopub.status.idle": "2021-12-05T11:20:52.614100Z",
     "shell.execute_reply": "2021-12-05T11:20:52.613249Z",
     "shell.execute_reply.started": "2021-12-05T11:20:50.549014Z"
    }
   },
   "outputs": [],
   "source": [
    "# YOUR CODE HERE: \n",
    "feature = \"GrLivArea\"\n",
    "\n",
    "sns.lmplot(\n",
    "    x=feature, y=\"SalePrice\", hue=\"BldgType\", col=\"BldgType\",\n",
    "    data=df, scatter_kws={\"edgecolor\": 'w'}, col_wrap=3, height=4,\n",
    ");"
   ]
  },
  {
   "cell_type": "code",
   "execution_count": 10,
   "metadata": {
    "execution": {
     "iopub.execute_input": "2021-12-05T11:21:05.187618Z",
     "iopub.status.busy": "2021-12-05T11:21:05.187008Z",
     "iopub.status.idle": "2021-12-05T11:21:07.076067Z",
     "shell.execute_reply": "2021-12-05T11:21:07.075199Z",
     "shell.execute_reply.started": "2021-12-05T11:21:05.187581Z"
    }
   },
   "outputs": [],
   "source": [
    "# YOUR CODE HERE: \n",
    "feature = \"MoSold\"\n",
    "\n",
    "sns.lmplot(\n",
    "    x=feature, y=\"SalePrice\", hue=\"BldgType\", col=\"BldgType\",\n",
    "    data=df, scatter_kws={\"edgecolor\": 'w'}, col_wrap=3, height=4,\n",
    ");"
   ]
  },
  {
   "cell_type": "markdown",
   "metadata": {},
   "source": [
    "The trend lines being significantly different from one category to the next indicates an interaction effect."
   ]
  },
  {
   "cell_type": "markdown",
   "metadata": {},
   "source": [
    "# 3) Discover Interactions\n",
    "\n",
    "From the plots, does `BldgType` seem to exhibit an interaction effect with either `GrLivArea` or `MoSold`?"
   ]
  },
  {
   "cell_type": "code",
   "execution_count": 11,
   "metadata": {
    "execution": {
     "iopub.execute_input": "2021-12-05T11:22:28.357985Z",
     "iopub.status.busy": "2021-12-05T11:22:28.357587Z",
     "iopub.status.idle": "2021-12-05T11:22:28.366431Z",
     "shell.execute_reply": "2021-12-05T11:22:28.365606Z",
     "shell.execute_reply.started": "2021-12-05T11:22:28.357946Z"
    }
   },
   "outputs": [],
   "source": [
    "# View the solution (Run this cell to receive credit!)\n",
    "q_3.check()"
   ]
  },
  {
   "cell_type": "markdown",
   "metadata": {},
   "source": [
    "# A First Set of Development Features #\n",
    "\n",
    "Let's take a moment to make a list of features we might focus on. In the exercise in Lesson 3, you'll start to build up a more informative feature set through combinations of the original features you identified as having high potential.\n",
    "\n",
    "You found that the ten features with the highest MI scores were:"
   ]
  },
  {
   "cell_type": "code",
   "execution_count": 12,
   "metadata": {
    "execution": {
     "iopub.execute_input": "2021-12-05T11:22:51.352944Z",
     "iopub.status.busy": "2021-12-05T11:22:51.352642Z",
     "iopub.status.idle": "2021-12-05T11:22:51.362048Z",
     "shell.execute_reply": "2021-12-05T11:22:51.361110Z",
     "shell.execute_reply.started": "2021-12-05T11:22:51.352916Z"
    }
   },
   "outputs": [],
   "source": [
    "mi_scores.head(10)"
   ]
  },
  {
   "cell_type": "markdown",
   "metadata": {},
   "source": [
    "Do you recognize the themes here? Location, size, and quality. You needn't restrict development to only these top features, but you do now have a good place to start. Combining these top features with other related features, especially those you've identified as creating interactions, is a good strategy for coming up with a highly informative set of features to train your model on.\n",
    "\n",
    "# Keep Going #\n",
    "\n",
    "[**Start creating features**](https://www.kaggle.com/ryanholbrook/creating-features) and learn what kinds of transformations different models are most likely to benefit from."
   ]
  }
 ],
 "metadata": {
  "jupytext": {
   "cell_metadata_filter": "-all",
   "formats": "ipynb"
  },
  "kernelspec": {
   "display_name": "Python 3",
   "language": "python",
   "name": "python3"
  },
  "language_info": {
   "codemirror_mode": {
    "name": "ipython",
    "version": 3
   },
   "file_extension": ".py",
   "mimetype": "text/x-python",
   "name": "python",
   "nbconvert_exporter": "python",
   "pygments_lexer": "ipython3",
   "version": "3.7.12"
  }
 },
 "nbformat": 4,
 "nbformat_minor": 4
}
