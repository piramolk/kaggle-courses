{
 "cells": [
  {
   "cell_type": "markdown",
   "metadata": {},
   "source": [
    "**This notebook is an exercise in the [Feature Engineering](https://www.kaggle.com/learn/feature-engineering) course.  You can reference the tutorial at [this link](https://www.kaggle.com/ryanholbrook/creating-features).**\n",
    "\n",
    "---\n"
   ]
  },
  {
   "cell_type": "markdown",
   "metadata": {},
   "source": [
    "# Introduction #\n",
    "\n",
    "In this exercise you'll start developing the features you identified in Exercise 2 as having the most potential. As you work through this exercise, you might take a moment to look at the data documentation again and consider whether the features we're creating make sense from a real-world perspective, and whether there are any useful combinations that stand out to you.\n",
    "\n",
    "Run this cell to set everything up!"
   ]
  },
  {
   "cell_type": "code",
   "execution_count": 2,
   "metadata": {
    "execution": {
     "iopub.execute_input": "2021-12-05T17:14:29.450649Z",
     "iopub.status.busy": "2021-12-05T17:14:29.450405Z",
     "iopub.status.idle": "2021-12-05T17:14:30.892686Z",
     "shell.execute_reply": "2021-12-05T17:14:30.891522Z",
     "shell.execute_reply.started": "2021-12-05T17:14:29.450619Z"
    }
   },
   "outputs": [],
   "source": [
    "# Setup feedback system\n",
    "from learntools.core import binder\n",
    "binder.bind(globals())\n",
    "from learntools.feature_engineering_new.ex3 import *\n",
    "\n",
    "import numpy as np\n",
    "import pandas as pd\n",
    "from sklearn.model_selection import cross_val_score\n",
    "from xgboost import XGBRegressor\n",
    "\n",
    "\n",
    "def score_dataset(X, y, model=XGBRegressor()):\n",
    "    # Label encoding for categoricals\n",
    "    for colname in X.select_dtypes([\"category\", \"object\"]):\n",
    "        X[colname], _ = X[colname].factorize()\n",
    "    # Metric for Housing competition is RMSLE (Root Mean Squared Log Error)\n",
    "    score = cross_val_score(\n",
    "        model, X, y, cv=5, scoring=\"neg_mean_squared_log_error\",\n",
    "    )\n",
    "    score = -1 * score.mean()\n",
    "    score = np.sqrt(score)\n",
    "    return score\n",
    "\n",
    "\n",
    "# Prepare data\n",
    "df = pd.read_csv(\"../input/fe-course-data/ames.csv\")\n",
    "X = df.copy()\n",
    "y = X.pop(\"SalePrice\")"
   ]
  },
  {
   "cell_type": "markdown",
   "metadata": {},
   "source": [
    "-------------------------------------------------------------------------------\n",
    "\n",
    "Let's start with a few mathematical combinations. We'll focus on features describing areas -- having the same units (square-feet) makes it easy to combine them in sensible ways. Since we're using XGBoost (a tree-based model), we'll focus on ratios and sums.\n",
    "\n",
    "# 1) Create Mathematical Transforms\n",
    "\n",
    "Create the following features:\n",
    "\n",
    "- `LivLotRatio`: the ratio of `GrLivArea` to `LotArea`\n",
    "- `Spaciousness`: the sum of `FirstFlrSF` and `SecondFlrSF` divided by `TotRmsAbvGrd`\n",
    "- `TotalOutsideSF`: the sum of `WoodDeckSF`, `OpenPorchSF`, `EnclosedPorch`, `Threeseasonporch`, and `ScreenPorch`"
   ]
  },
  {
   "cell_type": "code",
   "execution_count": 4,
   "metadata": {
    "execution": {
     "iopub.execute_input": "2021-12-05T17:14:38.131048Z",
     "iopub.status.busy": "2021-12-05T17:14:38.130731Z",
     "iopub.status.idle": "2021-12-05T17:14:38.172272Z",
     "shell.execute_reply": "2021-12-05T17:14:38.171356Z",
     "shell.execute_reply.started": "2021-12-05T17:14:38.131018Z"
    }
   },
   "outputs": [],
   "source": [
    "X.head()"
   ]
  },
  {
   "cell_type": "code",
   "execution_count": 5,
   "metadata": {
    "execution": {
     "iopub.execute_input": "2021-12-05T17:14:43.173436Z",
     "iopub.status.busy": "2021-12-05T17:14:43.173131Z",
     "iopub.status.idle": "2021-12-05T17:14:43.180852Z",
     "shell.execute_reply": "2021-12-05T17:14:43.179304Z",
     "shell.execute_reply.started": "2021-12-05T17:14:43.173399Z"
    }
   },
   "outputs": [],
   "source": [
    "X.columns"
   ]
  },
  {
   "cell_type": "code",
   "execution_count": 6,
   "metadata": {
    "execution": {
     "iopub.execute_input": "2021-12-05T17:17:18.370323Z",
     "iopub.status.busy": "2021-12-05T17:17:18.370018Z",
     "iopub.status.idle": "2021-12-05T17:17:18.396970Z",
     "shell.execute_reply": "2021-12-05T17:17:18.396023Z",
     "shell.execute_reply.started": "2021-12-05T17:17:18.370289Z"
    },
    "lines_to_next_cell": 0
   },
   "outputs": [],
   "source": [
    "# YOUR CODE HERE\n",
    "X_1 = pd.DataFrame()  # dataframe to hold new features\n",
    "\n",
    "X_1[\"LivLotRatio\"] = X['GrLivArea']/X['LotArea']\n",
    "X_1[\"Spaciousness\"] = (X['FirstFlrSF']+ X['SecondFlrSF'])/X['TotRmsAbvGrd']\n",
    "X_1[\"TotalOutsideSF\"] = X['WoodDeckSF']+ X['OpenPorchSF']+ X['EnclosedPorch']+X['Threeseasonporch']+X['ScreenPorch']\n",
    "\n",
    "\n",
    "# Check your answer\n",
    "q_1.check()"
   ]
  },
  {
   "cell_type": "code",
   "execution_count": 7,
   "metadata": {
    "execution": {
     "iopub.execute_input": "2021-12-05T17:17:22.447625Z",
     "iopub.status.busy": "2021-12-05T17:17:22.447328Z",
     "iopub.status.idle": "2021-12-05T17:17:22.454726Z",
     "shell.execute_reply": "2021-12-05T17:17:22.453912Z",
     "shell.execute_reply.started": "2021-12-05T17:17:22.447592Z"
    },
    "lines_to_next_cell": 0
   },
   "outputs": [],
   "source": [
    "# Lines below will give you a hint or solution code\n",
    "#q_1.hint()\n",
    "q_1.solution()"
   ]
  },
  {
   "cell_type": "markdown",
   "metadata": {},
   "source": [
    "-------------------------------------------------------------------------------\n",
    "\n",
    "If you've discovered an interaction effect between a numeric feature and a categorical feature, you might want to model it explicitly using a one-hot encoding, like so:\n",
    "\n",
    "```\n",
    "# One-hot encode Categorical feature, adding a column prefix \"Cat\"\n",
    "X_new = pd.get_dummies(df.Categorical, prefix=\"Cat\")\n",
    "\n",
    "# Multiply row-by-row\n",
    "X_new = X_new.mul(df.Continuous, axis=0)\n",
    "\n",
    "# Join the new features to the feature set\n",
    "X = X.join(X_new)\n",
    "```\n",
    "\n",
    "# 2) Interaction with a Categorical\n",
    "\n",
    "We discovered an interaction between `BldgType` and `GrLivArea` in Exercise 2. Now create their interaction features."
   ]
  },
  {
   "cell_type": "code",
   "execution_count": 9,
   "metadata": {
    "execution": {
     "iopub.execute_input": "2021-12-05T17:19:34.680699Z",
     "iopub.status.busy": "2021-12-05T17:19:34.680359Z",
     "iopub.status.idle": "2021-12-05T17:19:34.695927Z",
     "shell.execute_reply": "2021-12-05T17:19:34.695024Z",
     "shell.execute_reply.started": "2021-12-05T17:19:34.680670Z"
    },
    "lines_to_next_cell": 0
   },
   "outputs": [],
   "source": [
    "# YOUR CODE HERE\n",
    "# One-hot encode BldgType. Use `prefix=\"Bldg\"` in `get_dummies`\n",
    "X_2 = pd.get_dummies(df.BldgType, prefix='Bldg') \n",
    "# Multiply\n",
    "X_2 = X_2.mul(df.GrLivArea,axis=0)\n",
    "\n",
    "\n",
    "# Check your answer\n",
    "q_2.check()"
   ]
  },
  {
   "cell_type": "code",
   "execution_count": 11,
   "metadata": {
    "execution": {
     "iopub.execute_input": "2021-12-05T17:19:42.906319Z",
     "iopub.status.busy": "2021-12-05T17:19:42.906020Z",
     "iopub.status.idle": "2021-12-05T17:19:42.910294Z",
     "shell.execute_reply": "2021-12-05T17:19:42.909392Z",
     "shell.execute_reply.started": "2021-12-05T17:19:42.906286Z"
    },
    "lines_to_next_cell": 0
   },
   "outputs": [],
   "source": [
    "# Lines below will give you a hint or solution code\n",
    "#q_2.hint()\n",
    "#q_2.solution()"
   ]
  },
  {
   "cell_type": "markdown",
   "metadata": {
    "lines_to_next_cell": 0
   },
   "source": [
    "# 3) Count Feature\n",
    "\n",
    "Let's try creating a feature that describes how many kinds of outdoor areas a dwelling has. Create a feature `PorchTypes` that counts how many of the following are greater than 0.0:\n",
    "\n",
    "```\n",
    "WoodDeckSF\n",
    "OpenPorchSF\n",
    "EnclosedPorch\n",
    "Threeseasonporch\n",
    "ScreenPorch\n",
    "```"
   ]
  },
  {
   "cell_type": "code",
   "execution_count": 12,
   "metadata": {
    "execution": {
     "iopub.execute_input": "2021-12-05T17:21:05.817470Z",
     "iopub.status.busy": "2021-12-05T17:21:05.817149Z",
     "iopub.status.idle": "2021-12-05T17:21:05.834095Z",
     "shell.execute_reply": "2021-12-05T17:21:05.833344Z",
     "shell.execute_reply.started": "2021-12-05T17:21:05.817435Z"
    },
    "lines_to_next_cell": 0
   },
   "outputs": [],
   "source": [
    "X_3 = pd.DataFrame()\n",
    "porch_types = ['WoodDeckSF','OpenPorchSF','EnclosedPorch','Threeseasonporch','ScreenPorch']\n",
    "\n",
    "# YOUR CODE HERE\n",
    "X_3[\"PorchTypes\"] = df[porch_types].gt(0).sum(axis=1)\n",
    "\n",
    "\n",
    "# Check your answer\n",
    "q_3.check()"
   ]
  },
  {
   "cell_type": "code",
   "execution_count": 14,
   "metadata": {
    "execution": {
     "iopub.execute_input": "2021-12-05T17:21:17.997756Z",
     "iopub.status.busy": "2021-12-05T17:21:17.996784Z",
     "iopub.status.idle": "2021-12-05T17:21:18.001717Z",
     "shell.execute_reply": "2021-12-05T17:21:18.000755Z",
     "shell.execute_reply.started": "2021-12-05T17:21:17.997676Z"
    },
    "lines_to_next_cell": 0
   },
   "outputs": [],
   "source": [
    "# Lines below will give you a hint or solution code\n",
    "#q_3.hint()\n",
    "#q_3.solution()"
   ]
  },
  {
   "cell_type": "markdown",
   "metadata": {},
   "source": [
    "# 4) Break Down a Categorical Feature\n",
    "\n",
    "`MSSubClass` describes the type of a dwelling:"
   ]
  },
  {
   "cell_type": "code",
   "execution_count": 15,
   "metadata": {
    "execution": {
     "iopub.execute_input": "2021-12-05T17:21:20.360384Z",
     "iopub.status.busy": "2021-12-05T17:21:20.359612Z",
     "iopub.status.idle": "2021-12-05T17:21:20.367153Z",
     "shell.execute_reply": "2021-12-05T17:21:20.366543Z",
     "shell.execute_reply.started": "2021-12-05T17:21:20.360342Z"
    }
   },
   "outputs": [],
   "source": [
    "df.MSSubClass.unique()"
   ]
  },
  {
   "cell_type": "markdown",
   "metadata": {},
   "source": [
    "You can see that there is a more general categorization described (roughly) by the first word of each category. Create a feature containing only these first words by splitting `MSSubClass` at the first underscore `_`. (Hint: In the `split` method use an argument `n=1`.)"
   ]
  },
  {
   "cell_type": "code",
   "execution_count": 28,
   "metadata": {
    "execution": {
     "iopub.execute_input": "2021-12-05T17:27:32.413901Z",
     "iopub.status.busy": "2021-12-05T17:27:32.413547Z",
     "iopub.status.idle": "2021-12-05T17:27:32.438859Z",
     "shell.execute_reply": "2021-12-05T17:27:32.437930Z",
     "shell.execute_reply.started": "2021-12-05T17:27:32.413866Z"
    },
    "lines_to_next_cell": 0
   },
   "outputs": [],
   "source": [
    "X_4 = pd.DataFrame()\n",
    "\n",
    "# YOUR CODE HERE\n",
    "X_4[\"MSClass\"]  = df['MSSubClass'].str.split(\"_\",n=1,expand=True)[0]\n",
    "\n",
    "\n",
    "# Check your answer\n",
    "q_4.check()"
   ]
  },
  {
   "cell_type": "code",
   "execution_count": 30,
   "metadata": {
    "execution": {
     "iopub.execute_input": "2021-12-05T17:27:47.147591Z",
     "iopub.status.busy": "2021-12-05T17:27:47.146820Z",
     "iopub.status.idle": "2021-12-05T17:27:47.151082Z",
     "shell.execute_reply": "2021-12-05T17:27:47.150320Z",
     "shell.execute_reply.started": "2021-12-05T17:27:47.147551Z"
    },
    "lines_to_next_cell": 0
   },
   "outputs": [],
   "source": [
    "# Lines below will give you a hint or solution code\n",
    "#q_4.hint()\n",
    "#q_4.solution()"
   ]
  },
  {
   "cell_type": "markdown",
   "metadata": {},
   "source": [
    "# 5) Use a Grouped Transform\n",
    "\n",
    "The value of a home often depends on how it compares to typical homes in its neighborhood. Create a feature `MedNhbdArea` that describes the *median* of `GrLivArea` grouped on `Neighborhood`."
   ]
  },
  {
   "cell_type": "code",
   "execution_count": 31,
   "metadata": {
    "execution": {
     "iopub.execute_input": "2021-12-05T17:28:41.036059Z",
     "iopub.status.busy": "2021-12-05T17:28:41.035778Z",
     "iopub.status.idle": "2021-12-05T17:28:41.059419Z",
     "shell.execute_reply": "2021-12-05T17:28:41.058520Z",
     "shell.execute_reply.started": "2021-12-05T17:28:41.036032Z"
    },
    "lines_to_next_cell": 0
   },
   "outputs": [],
   "source": [
    "X_5 = pd.DataFrame()\n",
    "\n",
    "# YOUR CODE HERE\n",
    "X_5[\"MedNhbdArea\"] = df.groupby('Neighborhood')['GrLivArea'].transform('median')\n",
    "\n",
    "# Check your answer\n",
    "q_5.check()"
   ]
  },
  {
   "cell_type": "code",
   "execution_count": 33,
   "metadata": {
    "execution": {
     "iopub.execute_input": "2021-12-05T17:28:49.000645Z",
     "iopub.status.busy": "2021-12-05T17:28:49.000376Z",
     "iopub.status.idle": "2021-12-05T17:28:49.005670Z",
     "shell.execute_reply": "2021-12-05T17:28:49.004810Z",
     "shell.execute_reply.started": "2021-12-05T17:28:49.000616Z"
    },
    "lines_to_next_cell": 0
   },
   "outputs": [],
   "source": [
    "# Lines below will give you a hint or solution code\n",
    "#q_5.hint()\n",
    "#q_5.solution()"
   ]
  },
  {
   "cell_type": "markdown",
   "metadata": {},
   "source": [
    "Now you've made your first new feature set! If you like, you can run the cell below to score the model with all of your new features added:"
   ]
  },
  {
   "cell_type": "code",
   "execution_count": 34,
   "metadata": {
    "execution": {
     "iopub.execute_input": "2021-12-05T17:28:51.054943Z",
     "iopub.status.busy": "2021-12-05T17:28:51.052644Z",
     "iopub.status.idle": "2021-12-05T17:28:55.583261Z",
     "shell.execute_reply": "2021-12-05T17:28:55.582642Z",
     "shell.execute_reply.started": "2021-12-05T17:28:51.054894Z"
    }
   },
   "outputs": [],
   "source": [
    "X_new = X.join([X_1, X_2, X_3, X_4, X_5])\n",
    "score_dataset(X_new, y)"
   ]
  },
  {
   "cell_type": "markdown",
   "metadata": {},
   "source": [
    "# Keep Going #\n",
    "\n",
    "[**Untangle spatial relationships**](https://www.kaggle.com/ryanholbrook/clustering-with-k-means) by adding cluster labels to your dataset."
   ]
  }
 ],
 "metadata": {
  "jupytext": {
   "cell_metadata_filter": "-all",
   "formats": "ipynb"
  },
  "kernelspec": {
   "display_name": "Python 3",
   "language": "python",
   "name": "python3"
  },
  "language_info": {
   "codemirror_mode": {
    "name": "ipython",
    "version": 3
   },
   "file_extension": ".py",
   "mimetype": "text/x-python",
   "name": "python",
   "nbconvert_exporter": "python",
   "pygments_lexer": "ipython3",
   "version": "3.9.5"
  }
 },
 "nbformat": 4,
 "nbformat_minor": 4
}
